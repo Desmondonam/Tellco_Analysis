{
 "cells": [
  {
   "cell_type": "code",
   "execution_count": 1,
   "id": "af6feb49",
   "metadata": {},
   "outputs": [],
   "source": [
    "import os\n",
    "import sys\n",
    "sys.path.append(os.path.abspath(os.path.join('../scripts')))\n",
    "import seaborn as sns\n",
    "import matplotlib.pyplot as plt\n",
    "%matplotlib inline\n",
    "\n",
    "import plotly.express as px"
   ]
  },
  {
   "cell_type": "code",
   "execution_count": 2,
   "id": "5d84e05a",
   "metadata": {},
   "outputs": [],
   "source": [
    "import warnings\n",
    "warnings.filterwarnings('ignore')"
   ]
  },
  {
   "cell_type": "code",
   "execution_count": 7,
   "id": "d38009fd",
   "metadata": {},
   "outputs": [],
   "source": [
    "import numpy as np\n",
    "import pandas as pd\n",
    "#from CleanTelecomData import clean_telecom_data\n",
    "from helper import TelecomHelper"
   ]
  },
  {
   "cell_type": "code",
   "execution_count": 8,
   "id": "ef3f16a0",
   "metadata": {},
   "outputs": [],
   "source": [
    "class plots:\n",
    "    \n",
    "    def plot_hist(df:pd.DataFrame, column:str, color:str)->None:\n",
    "        plt.figure(figsize=(9, 7))\n",
    "        sns.displot(data=df, x=column, color=color, kde=True, height=7, aspect=2)\n",
    "        plt.title(f'Distribution of {column}', size=20, fontweight='bold')\n",
    "        plt.show()\n",
    "\n",
    "    def plot_dist(df:pd.DataFrame, column:str):\n",
    "        plt.figure(figsize=(9,7))\n",
    "        sns.distplot(df).set_title(f'Distribution of {column}')\n",
    "        plt.show()\n",
    "\n",
    "\n",
    "    def plot_count(df:pd.DataFrame, column:str) -> None:\n",
    "        plt.figure(figsize=(12, 7))\n",
    "        sns.countplot(data=df, x=column)\n",
    "        plt.title(f'Plot count of {column}', size=20, fontweight='bold')\n",
    "        plt.show()\n",
    "\n",
    "    def plot_bar(df:pd.DataFrame, x_col:str, y_col:str, title:str, xlabel:str, ylabel:str)->None:\n",
    "        plt.figure(figsize=(12, 7))\n",
    "        sns.barplot(data = df, x=x_col, y=y_col)\n",
    "        plt.title(title, size=20)\n",
    "        plt.xticks(rotation=75, fontsize=14)\n",
    "        plt.yticks( fontsize=14)\n",
    "        plt.xlabel(xlabel, fontsize=16)\n",
    "        plt.ylabel(ylabel, fontsize=16)\n",
    "        plt.show()\n",
    "\n",
    "    def plot_heatmap(df:pd.DataFrame, title:str, cbar=False)->None:\n",
    "        plt.figure(figsize=(12, 7))\n",
    "        sns.heatmap(df, annot=True, cmap='viridis', vmin=0, vmax=1, fmt='.2f', linewidths=.7, cbar=cbar )\n",
    "        plt.title(title, size=18, fontweight='bold')\n",
    "        plt.show()\n",
    "\n",
    "    def plot_box(df:pd.DataFrame, x_col:str, title:str) -> None:\n",
    "        plt.figure(figsize=(12, 7))\n",
    "        sns.boxplot(data = df, x=x_col)\n",
    "        plt.title(title, size=20)\n",
    "        plt.xticks(rotation=75, fontsize=14)\n",
    "        plt.show()\n",
    "\n",
    "    def plot_box_multi(df:pd.DataFrame, x_col:str, y_col:str, title:str) -> None:\n",
    "        plt.figure(figsize=(12, 7))\n",
    "        sns.boxplot(data = df, x=x_col, y=y_col)\n",
    "        plt.title(title, size=20)\n",
    "        plt.xticks(rotation=75, fontsize=14)\n",
    "        plt.yticks( fontsize=14)\n",
    "        plt.show()\n",
    "\n",
    "    def plot_scatter(df: pd.DataFrame, x_col: str, y_col: str, title: str, hue: str, style: str) -> None:\n",
    "        plt.figure(figsize=(10, 8))\n",
    "        sns.scatterplot(data = df, x=x_col, y=y_col, hue=hue, style=style)\n",
    "        plt.title(title, size=20)\n",
    "        plt.xticks(fontsize=14)\n",
    "        plt.yticks( fontsize=14)\n",
    "        plt.show()"
   ]
  },
  {
   "cell_type": "markdown",
   "id": "4f462cca",
   "metadata": {},
   "source": [
    "### Load the cleaned dataframe"
   ]
  },
  {
   "cell_type": "code",
   "execution_count": 9,
   "id": "a43e08dc",
   "metadata": {},
   "outputs": [],
   "source": [
    "CSV_PATH = \"../data/cleaned_data.csv\""
   ]
  },
  {
   "cell_type": "code",
   "execution_count": 10,
   "id": "b174df2e",
   "metadata": {},
   "outputs": [],
   "source": [
    "TelecomHelper = TelecomHelper()"
   ]
  },
  {
   "cell_type": "code",
   "execution_count": 11,
   "id": "ed303e78",
   "metadata": {},
   "outputs": [
    {
     "name": "stdout",
     "output_type": "stream",
     "text": [
      "file read as csv\n"
     ]
    }
   ],
   "source": [
    "df = TelecomHelper.read_csv(CSV_PATH)"
   ]
  },
  {
   "cell_type": "markdown",
   "id": "a33175f7",
   "metadata": {},
   "source": [
    "### Change the handset_type and the msisdn to categorical type"
   ]
  },
  {
   "cell_type": "code",
   "execution_count": 9,
   "id": "186e8e34",
   "metadata": {},
   "outputs": [],
   "source": [
    "df['msisdn/number'] = df['msisdn/number'].astype(\"int\")\n",
    "df['msisdn/number'] = df['msisdn/number'].astype(\"category\")\n",
    "\n",
    "df['handset_type'] = df['handset_type'].astype(\"category\")\n",
    "cleaned_df = df"
   ]
  },
  {
   "cell_type": "code",
   "execution_count": 10,
   "id": "d524584c",
   "metadata": {},
   "outputs": [
    {
     "data": {
      "text/plain": [
       "['bearer_id',\n",
       " 'start',\n",
       " 'start_ms',\n",
       " 'end',\n",
       " 'end_ms',\n",
       " 'dur._(ms)',\n",
       " 'imsi',\n",
       " 'msisdn/number',\n",
       " 'imei',\n",
       " 'last_location_name',\n",
       " 'avg_rtt_dl_(ms)',\n",
       " 'avg_rtt_ul_(ms)',\n",
       " 'avg_bearer_tp_dl_(kbps)',\n",
       " 'avg_bearer_tp_ul_(kbps)',\n",
       " 'dl_tp_<_50_kbps_(%)',\n",
       " '50_kbps_<_dl_tp_<_250_kbps_(%)',\n",
       " '250_kbps_<_dl_tp_<_1_mbps_(%)',\n",
       " 'dl_tp_>_1_mbps_(%)',\n",
       " 'ul_tp_<_10_kbps_(%)',\n",
       " '10_kbps_<_ul_tp_<_50_kbps_(%)',\n",
       " '50_kbps_<_ul_tp_<_300_kbps_(%)',\n",
       " 'ul_tp_>_300_kbps_(%)',\n",
       " 'activity_duration_dl_(ms)',\n",
       " 'activity_duration_ul_(ms)',\n",
       " 'dur._(ms).1',\n",
       " 'handset_manufacturer',\n",
       " 'handset_type',\n",
       " 'nb_of_sec_with_vol_dl_<_6250b',\n",
       " 'nb_of_sec_with_vol_ul_<_1250b',\n",
       " 'social_media_dl_(bytes)',\n",
       " 'social_media_ul_(bytes)',\n",
       " 'google_dl_(bytes)',\n",
       " 'google_ul_(bytes)',\n",
       " 'email_dl_(bytes)',\n",
       " 'email_ul_(bytes)',\n",
       " 'youtube_dl_(bytes)',\n",
       " 'youtube_ul_(bytes)',\n",
       " 'netflix_dl_(bytes)',\n",
       " 'netflix_ul_(bytes)',\n",
       " 'gaming_dl_(bytes)',\n",
       " 'gaming_ul_(bytes)',\n",
       " 'other_dl_(bytes)',\n",
       " 'other_ul_(bytes)',\n",
       " 'total_ul_(bytes)',\n",
       " 'total_dl_(bytes)',\n",
       " 'social_media',\n",
       " 'google',\n",
       " 'email',\n",
       " 'youtube',\n",
       " 'netflix',\n",
       " 'gaming',\n",
       " 'other',\n",
       " 'total_data']"
      ]
     },
     "execution_count": 10,
     "metadata": {},
     "output_type": "execute_result"
    }
   ],
   "source": [
    "list(cleaned_df.columns.values)"
   ]
  },
  {
   "cell_type": "code",
   "execution_count": 11,
   "id": "041d5f1f",
   "metadata": {},
   "outputs": [
    {
     "data": {
      "text/html": [
       "<div>\n",
       "<style scoped>\n",
       "    .dataframe tbody tr th:only-of-type {\n",
       "        vertical-align: middle;\n",
       "    }\n",
       "\n",
       "    .dataframe tbody tr th {\n",
       "        vertical-align: top;\n",
       "    }\n",
       "\n",
       "    .dataframe thead th {\n",
       "        text-align: right;\n",
       "    }\n",
       "</style>\n",
       "<table border=\"1\" class=\"dataframe\">\n",
       "  <thead>\n",
       "    <tr style=\"text-align: right;\">\n",
       "      <th></th>\n",
       "      <th>msisdn/number</th>\n",
       "      <th>avg_rtt_dl_(ms)</th>\n",
       "      <th>avg_rtt_ul_(ms)</th>\n",
       "      <th>avg_bearer_tp_dl_(kbps)</th>\n",
       "      <th>avg_bearer_tp_ul_(kbps)</th>\n",
       "      <th>handset_type</th>\n",
       "    </tr>\n",
       "  </thead>\n",
       "  <tbody>\n",
       "    <tr>\n",
       "      <th>0</th>\n",
       "      <td>-2147483648</td>\n",
       "      <td>42.000000</td>\n",
       "      <td>5.000000</td>\n",
       "      <td>23.0</td>\n",
       "      <td>44.0</td>\n",
       "      <td>Samsung Galaxy A5 Sm-A520F</td>\n",
       "    </tr>\n",
       "    <tr>\n",
       "      <th>1</th>\n",
       "      <td>-2147483648</td>\n",
       "      <td>65.000000</td>\n",
       "      <td>5.000000</td>\n",
       "      <td>16.0</td>\n",
       "      <td>26.0</td>\n",
       "      <td>Samsung Galaxy J5 (Sm-J530)</td>\n",
       "    </tr>\n",
       "    <tr>\n",
       "      <th>2</th>\n",
       "      <td>-2147483648</td>\n",
       "      <td>105.959783</td>\n",
       "      <td>17.633655</td>\n",
       "      <td>6.0</td>\n",
       "      <td>9.0</td>\n",
       "      <td>Samsung Galaxy A8 (2018)</td>\n",
       "    </tr>\n",
       "    <tr>\n",
       "      <th>3</th>\n",
       "      <td>-2147483648</td>\n",
       "      <td>105.959783</td>\n",
       "      <td>17.633655</td>\n",
       "      <td>44.0</td>\n",
       "      <td>44.0</td>\n",
       "      <td>Samsung Galaxy A8 (2018)</td>\n",
       "    </tr>\n",
       "    <tr>\n",
       "      <th>4</th>\n",
       "      <td>-2147483648</td>\n",
       "      <td>105.959783</td>\n",
       "      <td>17.633655</td>\n",
       "      <td>6.0</td>\n",
       "      <td>9.0</td>\n",
       "      <td>Samsung Sm-G390F</td>\n",
       "    </tr>\n",
       "  </tbody>\n",
       "</table>\n",
       "</div>"
      ],
      "text/plain": [
       "  msisdn/number  avg_rtt_dl_(ms)  avg_rtt_ul_(ms)  avg_bearer_tp_dl_(kbps)  \\\n",
       "0   -2147483648        42.000000         5.000000                     23.0   \n",
       "1   -2147483648        65.000000         5.000000                     16.0   \n",
       "2   -2147483648       105.959783        17.633655                      6.0   \n",
       "3   -2147483648       105.959783        17.633655                     44.0   \n",
       "4   -2147483648       105.959783        17.633655                      6.0   \n",
       "\n",
       "   avg_bearer_tp_ul_(kbps)                 handset_type  \n",
       "0                     44.0   Samsung Galaxy A5 Sm-A520F  \n",
       "1                     26.0  Samsung Galaxy J5 (Sm-J530)  \n",
       "2                      9.0     Samsung Galaxy A8 (2018)  \n",
       "3                     44.0     Samsung Galaxy A8 (2018)  \n",
       "4                      9.0             Samsung Sm-G390F  "
      ]
     },
     "execution_count": 11,
     "metadata": {},
     "output_type": "execute_result"
    }
   ],
   "source": [
    "experience_df = cleaned_df[['msisdn/number', 'avg_rtt_dl_(ms)', 'avg_rtt_ul_(ms)', \n",
    "           'avg_bearer_tp_dl_(kbps)', 'avg_bearer_tp_ul_(kbps)',\n",
    "           'handset_type']]\n",
    "\n",
    "experience_df.head()"
   ]
  },
  {
   "cell_type": "code",
   "execution_count": 12,
   "id": "f897facb",
   "metadata": {},
   "outputs": [],
   "source": [
    "def handle_outliers(df, col, method=\"lower_upper\"):\n",
    "    df = df.copy()\n",
    "    q1 = df[col].quantile(0.25)\n",
    "    q3 = df[col].quantile(0.75)\n",
    "    \n",
    "    lower_bound = q1 - ((1.5) * (q3 - q1))\n",
    "    upper_bound = q3 + ((1.5) * (q3 - q1))\n",
    "    \n",
    "    if method == \"mean\":\n",
    "        df[col] = np.where(df[col] < lower_bound,   df[col].mean(), df[col])\n",
    "        df[col] = np.where(df[col] > upper_bound, df[col].mean(), df[col])\n",
    "    \n",
    "    elif  method == \"mode\":\n",
    "        df[col] = np.where(df[col] < lower_bound,   df[col].mode()[0], df[col])\n",
    "        df[col] = np.where(df[col] > upper_bound, df[col].mode()[0], df[col])\n",
    "    else:\n",
    "        df[col] = np.where(df[col] < lower_bound, lower_bound, df[col])\n",
    "        df[col] = np.where(df[col] > upper_bound, upper_bound, df[col])\n",
    "    \n",
    "    return df"
   ]
  },
  {
   "cell_type": "code",
   "execution_count": 13,
   "id": "26e2018f",
   "metadata": {},
   "outputs": [],
   "source": [
    "cleaned_experience_df = handle_outliers(experience_df, 'avg_rtt_dl_(ms)', method=\"mean\")\n",
    "cleaned_experience_df = handle_outliers(experience_df, 'avg_rtt_ul_(ms)', method=\"mean\")\n",
    "\n",
    "cleaned_experience_df = handle_outliers(experience_df, 'avg_bearer_tp_dl_(kbps)', method=\"mean\")\n",
    "cleaned_experience_df = handle_outliers(experience_df, 'avg_bearer_tp_ul_(kbps)', method=\"mean\")\n"
   ]
  },
  {
   "cell_type": "code",
   "execution_count": 15,
   "id": "34a516a2",
   "metadata": {},
   "outputs": [],
   "source": [
    "experience_metrics_df = pd.DataFrame(columns=['msisdn', 'handset_type', 'avg_rtt_ms',\n",
    "                                              'avg_throughput_kbps', 'tcp_retrans_bytes'])\n",
    "\n",
    "experience_metrics_df['avg_rtt_ms'] = cleaned_experience_df['avg_rtt_dl_(ms)'] + cleaned_experience_df['avg_rtt_ul_(ms)']\n",
    "experience_metrics_df['avg_throughput_kbps'] = cleaned_experience_df['avg_bearer_tp_dl_(kbps)'] + cleaned_experience_df['avg_bearer_tp_ul_(kbps)']\n",
    "\n",
    "experience_metrics_df['msisdn'] = cleaned_experience_df['msisdn/number']\n",
    "experience_metrics_df['handset_type'] = cleaned_experience_df['handset_type']"
   ]
  },
  {
   "cell_type": "code",
   "execution_count": 16,
   "id": "36621c42",
   "metadata": {},
   "outputs": [
    {
     "data": {
      "text/html": [
       "<div>\n",
       "<style scoped>\n",
       "    .dataframe tbody tr th:only-of-type {\n",
       "        vertical-align: middle;\n",
       "    }\n",
       "\n",
       "    .dataframe tbody tr th {\n",
       "        vertical-align: top;\n",
       "    }\n",
       "\n",
       "    .dataframe thead th {\n",
       "        text-align: right;\n",
       "    }\n",
       "</style>\n",
       "<table border=\"1\" class=\"dataframe\">\n",
       "  <thead>\n",
       "    <tr style=\"text-align: right;\">\n",
       "      <th></th>\n",
       "      <th>msisdn</th>\n",
       "      <th>handset_type</th>\n",
       "      <th>avg_rtt_ms</th>\n",
       "      <th>avg_throughput_kbps</th>\n",
       "      <th>tcp_retrans_bytes</th>\n",
       "    </tr>\n",
       "  </thead>\n",
       "  <tbody>\n",
       "    <tr>\n",
       "      <th>0</th>\n",
       "      <td>-2147483648</td>\n",
       "      <td>Samsung Galaxy A5 Sm-A520F</td>\n",
       "      <td>47.000000</td>\n",
       "      <td>67.0</td>\n",
       "      <td>NaN</td>\n",
       "    </tr>\n",
       "    <tr>\n",
       "      <th>1</th>\n",
       "      <td>-2147483648</td>\n",
       "      <td>Samsung Galaxy J5 (Sm-J530)</td>\n",
       "      <td>70.000000</td>\n",
       "      <td>42.0</td>\n",
       "      <td>NaN</td>\n",
       "    </tr>\n",
       "    <tr>\n",
       "      <th>2</th>\n",
       "      <td>-2147483648</td>\n",
       "      <td>Samsung Galaxy A8 (2018)</td>\n",
       "      <td>123.593439</td>\n",
       "      <td>15.0</td>\n",
       "      <td>NaN</td>\n",
       "    </tr>\n",
       "    <tr>\n",
       "      <th>3</th>\n",
       "      <td>-2147483648</td>\n",
       "      <td>Samsung Galaxy A8 (2018)</td>\n",
       "      <td>123.593439</td>\n",
       "      <td>88.0</td>\n",
       "      <td>NaN</td>\n",
       "    </tr>\n",
       "    <tr>\n",
       "      <th>4</th>\n",
       "      <td>-2147483648</td>\n",
       "      <td>Samsung Sm-G390F</td>\n",
       "      <td>123.593439</td>\n",
       "      <td>15.0</td>\n",
       "      <td>NaN</td>\n",
       "    </tr>\n",
       "  </tbody>\n",
       "</table>\n",
       "</div>"
      ],
      "text/plain": [
       "       msisdn                 handset_type  avg_rtt_ms  avg_throughput_kbps  \\\n",
       "0 -2147483648   Samsung Galaxy A5 Sm-A520F   47.000000                 67.0   \n",
       "1 -2147483648  Samsung Galaxy J5 (Sm-J530)   70.000000                 42.0   \n",
       "2 -2147483648     Samsung Galaxy A8 (2018)  123.593439                 15.0   \n",
       "3 -2147483648     Samsung Galaxy A8 (2018)  123.593439                 88.0   \n",
       "4 -2147483648             Samsung Sm-G390F  123.593439                 15.0   \n",
       "\n",
       "  tcp_retrans_bytes  \n",
       "0               NaN  \n",
       "1               NaN  \n",
       "2               NaN  \n",
       "3               NaN  \n",
       "4               NaN  "
      ]
     },
     "execution_count": 16,
     "metadata": {},
     "output_type": "execute_result"
    }
   ],
   "source": [
    "experience_metrics_df.head()"
   ]
  },
  {
   "cell_type": "code",
   "execution_count": 17,
   "id": "25a12564",
   "metadata": {},
   "outputs": [
    {
     "data": {
      "text/html": [
       "<div>\n",
       "<style scoped>\n",
       "    .dataframe tbody tr th:only-of-type {\n",
       "        vertical-align: middle;\n",
       "    }\n",
       "\n",
       "    .dataframe tbody tr th {\n",
       "        vertical-align: top;\n",
       "    }\n",
       "\n",
       "    .dataframe thead th {\n",
       "        text-align: right;\n",
       "    }\n",
       "</style>\n",
       "<table border=\"1\" class=\"dataframe\">\n",
       "  <thead>\n",
       "    <tr style=\"text-align: right;\">\n",
       "      <th></th>\n",
       "      <th>avg_rtt_ms</th>\n",
       "      <th>avg_throughput_kbps</th>\n",
       "    </tr>\n",
       "  </thead>\n",
       "  <tbody>\n",
       "    <tr>\n",
       "      <th>count</th>\n",
       "      <td>146891.000000</td>\n",
       "      <td>146891.000000</td>\n",
       "    </tr>\n",
       "    <tr>\n",
       "      <th>mean</th>\n",
       "      <td>123.593439</td>\n",
       "      <td>13994.539085</td>\n",
       "    </tr>\n",
       "    <tr>\n",
       "      <th>std</th>\n",
       "      <td>537.295718</td>\n",
       "      <td>24638.596090</td>\n",
       "    </tr>\n",
       "    <tr>\n",
       "      <th>min</th>\n",
       "      <td>0.000000</td>\n",
       "      <td>0.000000</td>\n",
       "    </tr>\n",
       "    <tr>\n",
       "      <th>25%</th>\n",
       "      <td>40.000000</td>\n",
       "      <td>90.000000</td>\n",
       "    </tr>\n",
       "    <tr>\n",
       "      <th>50%</th>\n",
       "      <td>66.000000</td>\n",
       "      <td>126.000000</td>\n",
       "    </tr>\n",
       "    <tr>\n",
       "      <th>75%</th>\n",
       "      <td>123.593439</td>\n",
       "      <td>21402.190618</td>\n",
       "    </tr>\n",
       "    <tr>\n",
       "      <th>max</th>\n",
       "      <td>96924.000000</td>\n",
       "      <td>379948.190618</td>\n",
       "    </tr>\n",
       "  </tbody>\n",
       "</table>\n",
       "</div>"
      ],
      "text/plain": [
       "          avg_rtt_ms  avg_throughput_kbps\n",
       "count  146891.000000        146891.000000\n",
       "mean      123.593439         13994.539085\n",
       "std       537.295718         24638.596090\n",
       "min         0.000000             0.000000\n",
       "25%        40.000000            90.000000\n",
       "50%        66.000000           126.000000\n",
       "75%       123.593439         21402.190618\n",
       "max     96924.000000        379948.190618"
      ]
     },
     "execution_count": 17,
     "metadata": {},
     "output_type": "execute_result"
    }
   ],
   "source": [
    "experience_metrics_df.describe()"
   ]
  },
  {
   "cell_type": "code",
   "execution_count": 18,
   "id": "3799301e",
   "metadata": {},
   "outputs": [],
   "source": [
    "experience_agg_by_customer = experience_metrics_df.groupby('msisdn').agg({'avg_rtt_ms': 'sum',\n",
    "                                                                          'avg_throughput_kbps': 'sum',\n",
    "                                                                          'tcp_retrans_bytes': 'sum', \n",
    "                                                                           'handset_type': lambda x: x.mode()[0]})"
   ]
  },
  {
   "cell_type": "code",
   "execution_count": 19,
   "id": "6cf0fdd1",
   "metadata": {},
   "outputs": [],
   "source": [
    "experience_agg_by_customer = handle_outliers(experience_agg_by_customer, 'avg_rtt_ms', method=\"mean\")\n",
    "\n",
    "experience_agg_by_customer = handle_outliers(experience_agg_by_customer, 'avg_throughput_kbps', method=\"mean\")\n",
    "\n",
    "experience_agg_by_customer = handle_outliers(experience_agg_by_customer, 'tcp_retrans_bytes', method=\"mean\")"
   ]
  },
  {
   "cell_type": "code",
   "execution_count": 20,
   "id": "cd8b7197",
   "metadata": {},
   "outputs": [
    {
     "data": {
      "text/html": [
       "<div>\n",
       "<style scoped>\n",
       "    .dataframe tbody tr th:only-of-type {\n",
       "        vertical-align: middle;\n",
       "    }\n",
       "\n",
       "    .dataframe tbody tr th {\n",
       "        vertical-align: top;\n",
       "    }\n",
       "\n",
       "    .dataframe thead th {\n",
       "        text-align: right;\n",
       "    }\n",
       "</style>\n",
       "<table border=\"1\" class=\"dataframe\">\n",
       "  <thead>\n",
       "    <tr style=\"text-align: right;\">\n",
       "      <th></th>\n",
       "      <th>avg_rtt_ms</th>\n",
       "      <th>avg_throughput_kbps</th>\n",
       "      <th>tcp_retrans_bytes</th>\n",
       "      <th>handset_type</th>\n",
       "    </tr>\n",
       "    <tr>\n",
       "      <th>msisdn</th>\n",
       "      <th></th>\n",
       "      <th></th>\n",
       "      <th></th>\n",
       "      <th></th>\n",
       "    </tr>\n",
       "  </thead>\n",
       "  <tbody>\n",
       "    <tr>\n",
       "      <th>-2147483648</th>\n",
       "      <td>1.815476e+07</td>\n",
       "      <td>2.055672e+09</td>\n",
       "      <td>0</td>\n",
       "      <td>Huawei B528S-23A</td>\n",
       "    </tr>\n",
       "  </tbody>\n",
       "</table>\n",
       "</div>"
      ],
      "text/plain": [
       "               avg_rtt_ms  avg_throughput_kbps tcp_retrans_bytes  \\\n",
       "msisdn                                                             \n",
       "-2147483648  1.815476e+07         2.055672e+09                 0   \n",
       "\n",
       "                 handset_type  \n",
       "msisdn                         \n",
       "-2147483648  Huawei B528S-23A  "
      ]
     },
     "execution_count": 20,
     "metadata": {},
     "output_type": "execute_result"
    }
   ],
   "source": [
    "experience_agg_by_customer.head()"
   ]
  },
  {
   "cell_type": "code",
   "execution_count": 21,
   "id": "7411f256",
   "metadata": {},
   "outputs": [],
   "source": [
    "tcp_trans = experience_metrics_df.sort_values(by=['tcp_retrans_bytes'], ascending=False)\n",
    "\n",
    "top_10_tcp = tcp_trans.head(10)\n",
    "bot_10_tcp = tcp_trans.tail(10)\n",
    "most_tcp_frq = tcp_trans['tcp_retrans_bytes'].value_counts().head(10)"
   ]
  },
  {
   "cell_type": "code",
   "execution_count": 22,
   "id": "1a34ff76",
   "metadata": {},
   "outputs": [
    {
     "data": {
      "text/html": [
       "<div>\n",
       "<style scoped>\n",
       "    .dataframe tbody tr th:only-of-type {\n",
       "        vertical-align: middle;\n",
       "    }\n",
       "\n",
       "    .dataframe tbody tr th {\n",
       "        vertical-align: top;\n",
       "    }\n",
       "\n",
       "    .dataframe thead th {\n",
       "        text-align: right;\n",
       "    }\n",
       "</style>\n",
       "<table border=\"1\" class=\"dataframe\">\n",
       "  <thead>\n",
       "    <tr style=\"text-align: right;\">\n",
       "      <th></th>\n",
       "      <th>tcp_retrans_bytes</th>\n",
       "    </tr>\n",
       "  </thead>\n",
       "  <tbody>\n",
       "    <tr>\n",
       "      <th>0</th>\n",
       "      <td>NaN</td>\n",
       "    </tr>\n",
       "    <tr>\n",
       "      <th>1</th>\n",
       "      <td>NaN</td>\n",
       "    </tr>\n",
       "    <tr>\n",
       "      <th>2</th>\n",
       "      <td>NaN</td>\n",
       "    </tr>\n",
       "    <tr>\n",
       "      <th>3</th>\n",
       "      <td>NaN</td>\n",
       "    </tr>\n",
       "    <tr>\n",
       "      <th>4</th>\n",
       "      <td>NaN</td>\n",
       "    </tr>\n",
       "    <tr>\n",
       "      <th>5</th>\n",
       "      <td>NaN</td>\n",
       "    </tr>\n",
       "    <tr>\n",
       "      <th>6</th>\n",
       "      <td>NaN</td>\n",
       "    </tr>\n",
       "    <tr>\n",
       "      <th>7</th>\n",
       "      <td>NaN</td>\n",
       "    </tr>\n",
       "    <tr>\n",
       "      <th>8</th>\n",
       "      <td>NaN</td>\n",
       "    </tr>\n",
       "    <tr>\n",
       "      <th>9</th>\n",
       "      <td>NaN</td>\n",
       "    </tr>\n",
       "  </tbody>\n",
       "</table>\n",
       "</div>"
      ],
      "text/plain": [
       "  tcp_retrans_bytes\n",
       "0               NaN\n",
       "1               NaN\n",
       "2               NaN\n",
       "3               NaN\n",
       "4               NaN\n",
       "5               NaN\n",
       "6               NaN\n",
       "7               NaN\n",
       "8               NaN\n",
       "9               NaN"
      ]
     },
     "execution_count": 22,
     "metadata": {},
     "output_type": "execute_result"
    }
   ],
   "source": [
    "top_10_tcp[['tcp_retrans_bytes']]"
   ]
  },
  {
   "cell_type": "code",
   "execution_count": 23,
   "id": "c6662f9b",
   "metadata": {},
   "outputs": [
    {
     "data": {
      "text/html": [
       "<div>\n",
       "<style scoped>\n",
       "    .dataframe tbody tr th:only-of-type {\n",
       "        vertical-align: middle;\n",
       "    }\n",
       "\n",
       "    .dataframe tbody tr th {\n",
       "        vertical-align: top;\n",
       "    }\n",
       "\n",
       "    .dataframe thead th {\n",
       "        text-align: right;\n",
       "    }\n",
       "</style>\n",
       "<table border=\"1\" class=\"dataframe\">\n",
       "  <thead>\n",
       "    <tr style=\"text-align: right;\">\n",
       "      <th></th>\n",
       "      <th>tcp_retrans_bytes</th>\n",
       "    </tr>\n",
       "  </thead>\n",
       "  <tbody>\n",
       "    <tr>\n",
       "      <th>146881</th>\n",
       "      <td>NaN</td>\n",
       "    </tr>\n",
       "    <tr>\n",
       "      <th>146882</th>\n",
       "      <td>NaN</td>\n",
       "    </tr>\n",
       "    <tr>\n",
       "      <th>146883</th>\n",
       "      <td>NaN</td>\n",
       "    </tr>\n",
       "    <tr>\n",
       "      <th>146884</th>\n",
       "      <td>NaN</td>\n",
       "    </tr>\n",
       "    <tr>\n",
       "      <th>146885</th>\n",
       "      <td>NaN</td>\n",
       "    </tr>\n",
       "    <tr>\n",
       "      <th>146886</th>\n",
       "      <td>NaN</td>\n",
       "    </tr>\n",
       "    <tr>\n",
       "      <th>146887</th>\n",
       "      <td>NaN</td>\n",
       "    </tr>\n",
       "    <tr>\n",
       "      <th>146888</th>\n",
       "      <td>NaN</td>\n",
       "    </tr>\n",
       "    <tr>\n",
       "      <th>146889</th>\n",
       "      <td>NaN</td>\n",
       "    </tr>\n",
       "    <tr>\n",
       "      <th>146890</th>\n",
       "      <td>NaN</td>\n",
       "    </tr>\n",
       "  </tbody>\n",
       "</table>\n",
       "</div>"
      ],
      "text/plain": [
       "       tcp_retrans_bytes\n",
       "146881               NaN\n",
       "146882               NaN\n",
       "146883               NaN\n",
       "146884               NaN\n",
       "146885               NaN\n",
       "146886               NaN\n",
       "146887               NaN\n",
       "146888               NaN\n",
       "146889               NaN\n",
       "146890               NaN"
      ]
     },
     "execution_count": 23,
     "metadata": {},
     "output_type": "execute_result"
    }
   ],
   "source": [
    "bot_10_tcp[['tcp_retrans_bytes']]"
   ]
  },
  {
   "cell_type": "code",
   "execution_count": 24,
   "id": "2242dd2a",
   "metadata": {},
   "outputs": [
    {
     "data": {
      "text/plain": [
       "Series([], Name: count, dtype: int64)"
      ]
     },
     "execution_count": 24,
     "metadata": {},
     "output_type": "execute_result"
    }
   ],
   "source": [
    "most_tcp_frq"
   ]
  },
  {
   "cell_type": "code",
   "execution_count": 25,
   "id": "c20c976b",
   "metadata": {},
   "outputs": [],
   "source": [
    "tcp_rtt = experience_agg_by_customer.sort_values(by=['avg_rtt_ms'], ascending=False)\n",
    "\n",
    "top_10_rtt = tcp_rtt.head(10)\n",
    "bot_10_rtt = tcp_rtt.tail(10)"
   ]
  },
  {
   "cell_type": "code",
   "execution_count": 26,
   "id": "da8c6bce",
   "metadata": {},
   "outputs": [],
   "source": [
    "tcp_rtt = experience_agg_by_customer.sort_values(by=['avg_rtt_ms'], ascending=False)\n",
    "\n",
    "top_10_rtt = tcp_rtt.head(10)\n",
    "bot_10_rtt = tcp_rtt.tail(10)"
   ]
  },
  {
   "cell_type": "code",
   "execution_count": 27,
   "id": "8ef876bc",
   "metadata": {},
   "outputs": [
    {
     "data": {
      "text/html": [
       "<div>\n",
       "<style scoped>\n",
       "    .dataframe tbody tr th:only-of-type {\n",
       "        vertical-align: middle;\n",
       "    }\n",
       "\n",
       "    .dataframe tbody tr th {\n",
       "        vertical-align: top;\n",
       "    }\n",
       "\n",
       "    .dataframe thead th {\n",
       "        text-align: right;\n",
       "    }\n",
       "</style>\n",
       "<table border=\"1\" class=\"dataframe\">\n",
       "  <thead>\n",
       "    <tr style=\"text-align: right;\">\n",
       "      <th></th>\n",
       "      <th>avg_rtt_ms</th>\n",
       "    </tr>\n",
       "    <tr>\n",
       "      <th>msisdn</th>\n",
       "      <th></th>\n",
       "    </tr>\n",
       "  </thead>\n",
       "  <tbody>\n",
       "    <tr>\n",
       "      <th>-2147483648</th>\n",
       "      <td>1.815476e+07</td>\n",
       "    </tr>\n",
       "  </tbody>\n",
       "</table>\n",
       "</div>"
      ],
      "text/plain": [
       "               avg_rtt_ms\n",
       "msisdn                   \n",
       "-2147483648  1.815476e+07"
      ]
     },
     "execution_count": 27,
     "metadata": {},
     "output_type": "execute_result"
    }
   ],
   "source": [
    "bot_10_rtt[['avg_rtt_ms']]"
   ]
  },
  {
   "cell_type": "code",
   "execution_count": 28,
   "id": "cd477861",
   "metadata": {},
   "outputs": [
    {
     "ename": "NameError",
     "evalue": "name 'most_rtt_frq' is not defined",
     "output_type": "error",
     "traceback": [
      "\u001b[1;31m---------------------------------------------------------------------------\u001b[0m",
      "\u001b[1;31mNameError\u001b[0m                                 Traceback (most recent call last)",
      "Cell \u001b[1;32mIn[28], line 1\u001b[0m\n\u001b[1;32m----> 1\u001b[0m most_rtt_frq\n",
      "\u001b[1;31mNameError\u001b[0m: name 'most_rtt_frq' is not defined"
     ]
    }
   ],
   "source": [
    "most_rtt_frq"
   ]
  },
  {
   "cell_type": "code",
   "execution_count": 29,
   "id": "98c635d9",
   "metadata": {},
   "outputs": [],
   "source": [
    "tcp_throuput = experience_agg_by_customer.sort_values(by=['avg_throughput_kbps'], ascending=False)\n",
    "\n",
    "top_10_throuput = tcp_throuput.head(10)\n",
    "bot_10_throuput = tcp_throuput.tail(10)\n",
    "frq_throuput = tcp_throuput['avg_throughput_kbps'].value_counts().head(10)"
   ]
  },
  {
   "cell_type": "code",
   "execution_count": 30,
   "id": "1ba09799",
   "metadata": {},
   "outputs": [
    {
     "data": {
      "text/html": [
       "<div>\n",
       "<style scoped>\n",
       "    .dataframe tbody tr th:only-of-type {\n",
       "        vertical-align: middle;\n",
       "    }\n",
       "\n",
       "    .dataframe tbody tr th {\n",
       "        vertical-align: top;\n",
       "    }\n",
       "\n",
       "    .dataframe thead th {\n",
       "        text-align: right;\n",
       "    }\n",
       "</style>\n",
       "<table border=\"1\" class=\"dataframe\">\n",
       "  <thead>\n",
       "    <tr style=\"text-align: right;\">\n",
       "      <th></th>\n",
       "      <th>avg_throughput_kbps</th>\n",
       "    </tr>\n",
       "    <tr>\n",
       "      <th>msisdn</th>\n",
       "      <th></th>\n",
       "    </tr>\n",
       "  </thead>\n",
       "  <tbody>\n",
       "    <tr>\n",
       "      <th>-2147483648</th>\n",
       "      <td>2.055672e+09</td>\n",
       "    </tr>\n",
       "  </tbody>\n",
       "</table>\n",
       "</div>"
      ],
      "text/plain": [
       "             avg_throughput_kbps\n",
       "msisdn                          \n",
       "-2147483648         2.055672e+09"
      ]
     },
     "execution_count": 30,
     "metadata": {},
     "output_type": "execute_result"
    }
   ],
   "source": [
    "top_10_throuput[['avg_throughput_kbps']]"
   ]
  },
  {
   "cell_type": "code",
   "execution_count": 31,
   "id": "c1c791ed",
   "metadata": {},
   "outputs": [
    {
     "data": {
      "text/html": [
       "<div>\n",
       "<style scoped>\n",
       "    .dataframe tbody tr th:only-of-type {\n",
       "        vertical-align: middle;\n",
       "    }\n",
       "\n",
       "    .dataframe tbody tr th {\n",
       "        vertical-align: top;\n",
       "    }\n",
       "\n",
       "    .dataframe thead th {\n",
       "        text-align: right;\n",
       "    }\n",
       "</style>\n",
       "<table border=\"1\" class=\"dataframe\">\n",
       "  <thead>\n",
       "    <tr style=\"text-align: right;\">\n",
       "      <th></th>\n",
       "      <th>avg_throughput_kbps</th>\n",
       "    </tr>\n",
       "    <tr>\n",
       "      <th>msisdn</th>\n",
       "      <th></th>\n",
       "    </tr>\n",
       "  </thead>\n",
       "  <tbody>\n",
       "    <tr>\n",
       "      <th>-2147483648</th>\n",
       "      <td>2.055672e+09</td>\n",
       "    </tr>\n",
       "  </tbody>\n",
       "</table>\n",
       "</div>"
      ],
      "text/plain": [
       "             avg_throughput_kbps\n",
       "msisdn                          \n",
       "-2147483648         2.055672e+09"
      ]
     },
     "execution_count": 31,
     "metadata": {},
     "output_type": "execute_result"
    }
   ],
   "source": [
    "bot_10_throuput[['avg_throughput_kbps']]"
   ]
  },
  {
   "cell_type": "code",
   "execution_count": 32,
   "id": "dbb6a9ae",
   "metadata": {},
   "outputs": [
    {
     "data": {
      "text/plain": [
       "avg_throughput_kbps\n",
       "2.055672e+09    1\n",
       "Name: count, dtype: int64"
      ]
     },
     "execution_count": 32,
     "metadata": {},
     "output_type": "execute_result"
    }
   ],
   "source": [
    "frq_throuput"
   ]
  },
  {
   "cell_type": "code",
   "execution_count": 33,
   "id": "c5d1e13b",
   "metadata": {},
   "outputs": [],
   "source": [
    "handset_agg = experience_metrics_df.groupby('handset_type').agg({'avg_throughput_kbps': 'sum',\n",
    "                                                                       'tcp_retrans_bytes': 'sum'})\n",
    "\n",
    "sorted_handset_agg = handset_agg.sort_values(by=['avg_throughput_kbps'], ascending=False).head(10)\n",
    "\n",
    "handset_tp_df = sorted_handset_agg[['avg_throughput_kbps']]\n",
    "handset_tp_df['handset_type'] = sorted_handset_agg.index\n",
    "\n",
    "# handset_tp_df"
   ]
  },
  {
   "cell_type": "code",
   "execution_count": 34,
   "id": "fb166adc",
   "metadata": {},
   "outputs": [
    {
     "data": {
      "image/png": "[encoded data removed]",
      "text/plain": [
       "<Figure size 1200x700 with 1 Axes>"
      ]
     },
     "metadata": {},
     "output_type": "display_data"
    },
    {
     "data": {
      "image/png": "[encoded data removed]",
      "text/plain": [
       "<Figure size 1200x700 with 1 Axes>"
      ]
     },
     "metadata": {},
     "output_type": "display_data"
    }
   ],
   "source": [
    "plots.plot_box(handset_agg, 'avg_throughput_kbps', 'outlier detection for through output')\n",
    "plots.plot_box(handset_agg, 'tcp_retrans_bytes', 'outlier detection for tcp retransmission')"
   ]
  },
  {
   "cell_type": "code",
   "execution_count": 35,
   "id": "ba599fe9",
   "metadata": {},
   "outputs": [
    {
     "data": {
      "text/plain": [
       "<Figure size 900x700 with 0 Axes>"
      ]
     },
     "metadata": {},
     "output_type": "display_data"
    },
    {
     "data": {
      "image/png": "[encoded data removed]",
      "text/plain": [
       "<Figure size 1400x700 with 1 Axes>"
      ]
     },
     "metadata": {},
     "output_type": "display_data"
    },
    {
     "data": {
      "text/html": [
       "<div>\n",
       "<style scoped>\n",
       "    .dataframe tbody tr th:only-of-type {\n",
       "        vertical-align: middle;\n",
       "    }\n",
       "\n",
       "    .dataframe tbody tr th {\n",
       "        vertical-align: top;\n",
       "    }\n",
       "\n",
       "    .dataframe thead th {\n",
       "        text-align: right;\n",
       "    }\n",
       "</style>\n",
       "<table border=\"1\" class=\"dataframe\">\n",
       "  <thead>\n",
       "    <tr style=\"text-align: right;\">\n",
       "      <th></th>\n",
       "      <th>avg_throughput_kbps</th>\n",
       "    </tr>\n",
       "  </thead>\n",
       "  <tbody>\n",
       "    <tr>\n",
       "      <th>count</th>\n",
       "      <td>1362.000000</td>\n",
       "    </tr>\n",
       "    <tr>\n",
       "      <th>mean</th>\n",
       "      <td>76097.171697</td>\n",
       "    </tr>\n",
       "    <tr>\n",
       "      <th>std</th>\n",
       "      <td>98102.551370</td>\n",
       "    </tr>\n",
       "    <tr>\n",
       "      <th>min</th>\n",
       "      <td>0.000000</td>\n",
       "    </tr>\n",
       "    <tr>\n",
       "      <th>25%</th>\n",
       "      <td>3450.750000</td>\n",
       "    </tr>\n",
       "    <tr>\n",
       "      <th>50%</th>\n",
       "      <td>26397.500000</td>\n",
       "    </tr>\n",
       "    <tr>\n",
       "      <th>75%</th>\n",
       "      <td>110227.547654</td>\n",
       "    </tr>\n",
       "    <tr>\n",
       "      <th>max</th>\n",
       "      <td>270392.744136</td>\n",
       "    </tr>\n",
       "  </tbody>\n",
       "</table>\n",
       "</div>"
      ],
      "text/plain": [
       "       avg_throughput_kbps\n",
       "count          1362.000000\n",
       "mean          76097.171697\n",
       "std           98102.551370\n",
       "min               0.000000\n",
       "25%            3450.750000\n",
       "50%           26397.500000\n",
       "75%          110227.547654\n",
       "max          270392.744136"
      ]
     },
     "execution_count": 35,
     "metadata": {},
     "output_type": "execute_result"
    }
   ],
   "source": [
    "cleaned_handset_agg =  handle_outliers(handset_agg, 'avg_throughput_kbps')\n",
    "\n",
    "plots.plot_hist(cleaned_handset_agg, 'avg_throughput_kbps', 'green')\n",
    "cleaned_handset_agg.describe()"
   ]
  },
  {
   "cell_type": "code",
   "execution_count": 36,
   "id": "f023a9ae",
   "metadata": {},
   "outputs": [
    {
     "data": {
      "text/plain": [
       "<Figure size 900x700 with 0 Axes>"
      ]
     },
     "metadata": {},
     "output_type": "display_data"
    },
    {
     "data": {
      "image/png": "[encoded data removed]",
      "text/plain": [
       "<Figure size 1400x700 with 1 Axes>"
      ]
     },
     "metadata": {},
     "output_type": "display_data"
    }
   ],
   "source": [
    "cleaned_handset_agg =  handle_outliers(handset_agg, 'tcp_retrans_bytes')\n",
    "plots.plot_hist(cleaned_handset_agg, 'tcp_retrans_bytes', 'orange')"
   ]
  },
  {
   "cell_type": "code",
   "execution_count": 37,
   "id": "b6d232b6",
   "metadata": {},
   "outputs": [],
   "source": [
    "from sklearn.preprocessing import Normalizer, MinMaxScaler\n",
    "from sklearn.cluster import KMeans\n",
    "\n",
    "\n",
    "def normalizer(df, columns):\n",
    "    norm = Normalizer()\n",
    "    return pd.DataFrame(norm.fit_transform(df), columns=columns)\n",
    "\n",
    "def scaler(df, columns):\n",
    "    minmax_scaler = MinMaxScaler()\n",
    "    return pd.DataFrame(minmax_scaler.fit_transform(df), columns=columns)\n",
    "\n",
    "def scale_and_normalize(df,columns ):\n",
    "    return normalizer(scaler(df, columns), columns)"
   ]
  },
  {
   "cell_type": "code",
   "execution_count": 38,
   "id": "d25019a8",
   "metadata": {},
   "outputs": [],
   "source": [
    "def cluser_label(x: int, cols: list = []) -> str:\n",
    "    if (not type(x) == int):\n",
    "        return x\n",
    "    if (x < len(cols)):\n",
    "        return cols[x]\n",
    "\n",
    "    return str(x)"
   ]
  },
  {
   "cell_type": "code",
   "execution_count": 39,
   "id": "b7ffcbc3",
   "metadata": {},
   "outputs": [
    {
     "data": {
      "text/html": [
       "<div>\n",
       "<style scoped>\n",
       "    .dataframe tbody tr th:only-of-type {\n",
       "        vertical-align: middle;\n",
       "    }\n",
       "\n",
       "    .dataframe tbody tr th {\n",
       "        vertical-align: top;\n",
       "    }\n",
       "\n",
       "    .dataframe thead th {\n",
       "        text-align: right;\n",
       "    }\n",
       "</style>\n",
       "<table border=\"1\" class=\"dataframe\">\n",
       "  <thead>\n",
       "    <tr style=\"text-align: right;\">\n",
       "      <th></th>\n",
       "      <th>avg_rtt_ms</th>\n",
       "      <th>avg_throughput_kbps</th>\n",
       "      <th>tcp_retrans_bytes</th>\n",
       "    </tr>\n",
       "  </thead>\n",
       "  <tbody>\n",
       "    <tr>\n",
       "      <th>count</th>\n",
       "      <td>1.0</td>\n",
       "      <td>1.0</td>\n",
       "      <td>1.0</td>\n",
       "    </tr>\n",
       "    <tr>\n",
       "      <th>mean</th>\n",
       "      <td>0.0</td>\n",
       "      <td>0.0</td>\n",
       "      <td>0.0</td>\n",
       "    </tr>\n",
       "    <tr>\n",
       "      <th>std</th>\n",
       "      <td>NaN</td>\n",
       "      <td>NaN</td>\n",
       "      <td>NaN</td>\n",
       "    </tr>\n",
       "    <tr>\n",
       "      <th>min</th>\n",
       "      <td>0.0</td>\n",
       "      <td>0.0</td>\n",
       "      <td>0.0</td>\n",
       "    </tr>\n",
       "    <tr>\n",
       "      <th>25%</th>\n",
       "      <td>0.0</td>\n",
       "      <td>0.0</td>\n",
       "      <td>0.0</td>\n",
       "    </tr>\n",
       "    <tr>\n",
       "      <th>50%</th>\n",
       "      <td>0.0</td>\n",
       "      <td>0.0</td>\n",
       "      <td>0.0</td>\n",
       "    </tr>\n",
       "    <tr>\n",
       "      <th>75%</th>\n",
       "      <td>0.0</td>\n",
       "      <td>0.0</td>\n",
       "      <td>0.0</td>\n",
       "    </tr>\n",
       "    <tr>\n",
       "      <th>max</th>\n",
       "      <td>0.0</td>\n",
       "      <td>0.0</td>\n",
       "      <td>0.0</td>\n",
       "    </tr>\n",
       "  </tbody>\n",
       "</table>\n",
       "</div>"
      ],
      "text/plain": [
       "       avg_rtt_ms  avg_throughput_kbps  tcp_retrans_bytes\n",
       "count         1.0                  1.0                1.0\n",
       "mean          0.0                  0.0                0.0\n",
       "std           NaN                  NaN                NaN\n",
       "min           0.0                  0.0                0.0\n",
       "25%           0.0                  0.0                0.0\n",
       "50%           0.0                  0.0                0.0\n",
       "75%           0.0                  0.0                0.0\n",
       "max           0.0                  0.0                0.0"
      ]
     },
     "execution_count": 39,
     "metadata": {},
     "output_type": "execute_result"
    }
   ],
   "source": [
    "metrics = experience_agg_by_customer[['avg_rtt_ms', 'avg_throughput_kbps', 'tcp_retrans_bytes']]\n",
    "\n",
    "# handling outliers\n",
    "metrics_cleaned = metrics.copy()\n",
    "metrics_cleaned = handle_outliers(metrics_cleaned, 'avg_rtt_ms', 'mean')\n",
    "metrics_cleaned = handle_outliers(metrics_cleaned, 'avg_throughput_kbps', 'mean')\n",
    "metrics_cleaned = handle_outliers(metrics_cleaned, 'tcp_retrans_bytes', 'mean')\n",
    "\n",
    "normalized_metrics = scaler(metrics_cleaned, ['avg_rtt_ms', 'avg_throughput_kbps', 'tcp_retrans_bytes'])\n",
    "normalized_metrics.describe()"
   ]
  },
  {
   "cell_type": "code",
   "execution_count": 40,
   "id": "1c834209",
   "metadata": {},
   "outputs": [
    {
     "ename": "ValueError",
     "evalue": "n_samples=1 should be >= n_clusters=3.",
     "output_type": "error",
     "traceback": [
      "\u001b[1;31m---------------------------------------------------------------------------\u001b[0m",
      "\u001b[1;31mValueError\u001b[0m                                Traceback (most recent call last)",
      "Cell \u001b[1;32mIn[40], line 1\u001b[0m\n\u001b[1;32m----> 1\u001b[0m kmeans \u001b[38;5;241m=\u001b[39m KMeans(n_clusters\u001b[38;5;241m=\u001b[39m\u001b[38;5;241m3\u001b[39m, init\u001b[38;5;241m=\u001b[39m\u001b[38;5;124m'\u001b[39m\u001b[38;5;124mk-means++\u001b[39m\u001b[38;5;124m'\u001b[39m)\u001b[38;5;241m.\u001b[39mfit(normalized_metrics)\n\u001b[0;32m      2\u001b[0m pred \u001b[38;5;241m=\u001b[39m kmeans\u001b[38;5;241m.\u001b[39mpredict(normalized_metrics)\n\u001b[0;32m      4\u001b[0m experience_metrics_with_cluster \u001b[38;5;241m=\u001b[39m experience_agg_by_customer\u001b[38;5;241m.\u001b[39mcopy()\n",
      "File \u001b[1;32m~\\anaconda3\\Lib\\site-packages\\sklearn\\base.py:1151\u001b[0m, in \u001b[0;36m_fit_context.<locals>.decorator.<locals>.wrapper\u001b[1;34m(estimator, *args, **kwargs)\u001b[0m\n\u001b[0;32m   1144\u001b[0m     estimator\u001b[38;5;241m.\u001b[39m_validate_params()\n\u001b[0;32m   1146\u001b[0m \u001b[38;5;28;01mwith\u001b[39;00m config_context(\n\u001b[0;32m   1147\u001b[0m     skip_parameter_validation\u001b[38;5;241m=\u001b[39m(\n\u001b[0;32m   1148\u001b[0m         prefer_skip_nested_validation \u001b[38;5;129;01mor\u001b[39;00m global_skip_validation\n\u001b[0;32m   1149\u001b[0m     )\n\u001b[0;32m   1150\u001b[0m ):\n\u001b[1;32m-> 1151\u001b[0m     \u001b[38;5;28;01mreturn\u001b[39;00m fit_method(estimator, \u001b[38;5;241m*\u001b[39margs, \u001b[38;5;241m*\u001b[39m\u001b[38;5;241m*\u001b[39mkwargs)\n",
      "File \u001b[1;32m~\\anaconda3\\Lib\\site-packages\\sklearn\\cluster\\_kmeans.py:1480\u001b[0m, in \u001b[0;36mKMeans.fit\u001b[1;34m(self, X, y, sample_weight)\u001b[0m\n\u001b[0;32m   1445\u001b[0m \u001b[38;5;250m\u001b[39m\u001b[38;5;124;03m\"\"\"Compute k-means clustering.\u001b[39;00m\n\u001b[0;32m   1446\u001b[0m \n\u001b[0;32m   1447\u001b[0m \u001b[38;5;124;03mParameters\u001b[39;00m\n\u001b[1;32m   (...)\u001b[0m\n\u001b[0;32m   1469\u001b[0m \u001b[38;5;124;03m    Fitted estimator.\u001b[39;00m\n\u001b[0;32m   1470\u001b[0m \u001b[38;5;124;03m\"\"\"\u001b[39;00m\n\u001b[0;32m   1471\u001b[0m X \u001b[38;5;241m=\u001b[39m \u001b[38;5;28mself\u001b[39m\u001b[38;5;241m.\u001b[39m_validate_data(\n\u001b[0;32m   1472\u001b[0m     X,\n\u001b[0;32m   1473\u001b[0m     accept_sparse\u001b[38;5;241m=\u001b[39m\u001b[38;5;124m\"\u001b[39m\u001b[38;5;124mcsr\u001b[39m\u001b[38;5;124m\"\u001b[39m,\n\u001b[1;32m   (...)\u001b[0m\n\u001b[0;32m   1477\u001b[0m     accept_large_sparse\u001b[38;5;241m=\u001b[39m\u001b[38;5;28;01mFalse\u001b[39;00m,\n\u001b[0;32m   1478\u001b[0m )\n\u001b[1;32m-> 1480\u001b[0m \u001b[38;5;28mself\u001b[39m\u001b[38;5;241m.\u001b[39m_check_params_vs_input(X)\n\u001b[0;32m   1482\u001b[0m random_state \u001b[38;5;241m=\u001b[39m check_random_state(\u001b[38;5;28mself\u001b[39m\u001b[38;5;241m.\u001b[39mrandom_state)\n\u001b[0;32m   1483\u001b[0m sample_weight \u001b[38;5;241m=\u001b[39m _check_sample_weight(sample_weight, X, dtype\u001b[38;5;241m=\u001b[39mX\u001b[38;5;241m.\u001b[39mdtype)\n",
      "File \u001b[1;32m~\\anaconda3\\Lib\\site-packages\\sklearn\\cluster\\_kmeans.py:1412\u001b[0m, in \u001b[0;36mKMeans._check_params_vs_input\u001b[1;34m(self, X)\u001b[0m\n\u001b[0;32m   1411\u001b[0m \u001b[38;5;28;01mdef\u001b[39;00m \u001b[38;5;21m_check_params_vs_input\u001b[39m(\u001b[38;5;28mself\u001b[39m, X):\n\u001b[1;32m-> 1412\u001b[0m     \u001b[38;5;28msuper\u001b[39m()\u001b[38;5;241m.\u001b[39m_check_params_vs_input(X, default_n_init\u001b[38;5;241m=\u001b[39m\u001b[38;5;241m10\u001b[39m)\n\u001b[0;32m   1414\u001b[0m     \u001b[38;5;28mself\u001b[39m\u001b[38;5;241m.\u001b[39m_algorithm \u001b[38;5;241m=\u001b[39m \u001b[38;5;28mself\u001b[39m\u001b[38;5;241m.\u001b[39malgorithm\n\u001b[0;32m   1415\u001b[0m     \u001b[38;5;28;01mif\u001b[39;00m \u001b[38;5;28mself\u001b[39m\u001b[38;5;241m.\u001b[39m_algorithm \u001b[38;5;129;01min\u001b[39;00m (\u001b[38;5;124m\"\u001b[39m\u001b[38;5;124mauto\u001b[39m\u001b[38;5;124m\"\u001b[39m, \u001b[38;5;124m\"\u001b[39m\u001b[38;5;124mfull\u001b[39m\u001b[38;5;124m\"\u001b[39m):\n",
      "File \u001b[1;32m~\\anaconda3\\Lib\\site-packages\\sklearn\\cluster\\_kmeans.py:866\u001b[0m, in \u001b[0;36m_BaseKMeans._check_params_vs_input\u001b[1;34m(self, X, default_n_init)\u001b[0m\n\u001b[0;32m    863\u001b[0m \u001b[38;5;28;01mdef\u001b[39;00m \u001b[38;5;21m_check_params_vs_input\u001b[39m(\u001b[38;5;28mself\u001b[39m, X, default_n_init\u001b[38;5;241m=\u001b[39m\u001b[38;5;28;01mNone\u001b[39;00m):\n\u001b[0;32m    864\u001b[0m     \u001b[38;5;66;03m# n_clusters\u001b[39;00m\n\u001b[0;32m    865\u001b[0m     \u001b[38;5;28;01mif\u001b[39;00m X\u001b[38;5;241m.\u001b[39mshape[\u001b[38;5;241m0\u001b[39m] \u001b[38;5;241m<\u001b[39m \u001b[38;5;28mself\u001b[39m\u001b[38;5;241m.\u001b[39mn_clusters:\n\u001b[1;32m--> 866\u001b[0m         \u001b[38;5;28;01mraise\u001b[39;00m \u001b[38;5;167;01mValueError\u001b[39;00m(\n\u001b[0;32m    867\u001b[0m             \u001b[38;5;124mf\u001b[39m\u001b[38;5;124m\"\u001b[39m\u001b[38;5;124mn_samples=\u001b[39m\u001b[38;5;132;01m{\u001b[39;00mX\u001b[38;5;241m.\u001b[39mshape[\u001b[38;5;241m0\u001b[39m]\u001b[38;5;132;01m}\u001b[39;00m\u001b[38;5;124m should be >= n_clusters=\u001b[39m\u001b[38;5;132;01m{\u001b[39;00m\u001b[38;5;28mself\u001b[39m\u001b[38;5;241m.\u001b[39mn_clusters\u001b[38;5;132;01m}\u001b[39;00m\u001b[38;5;124m.\u001b[39m\u001b[38;5;124m\"\u001b[39m\n\u001b[0;32m    868\u001b[0m         )\n\u001b[0;32m    870\u001b[0m     \u001b[38;5;66;03m# tol\u001b[39;00m\n\u001b[0;32m    871\u001b[0m     \u001b[38;5;28mself\u001b[39m\u001b[38;5;241m.\u001b[39m_tol \u001b[38;5;241m=\u001b[39m _tolerance(X, \u001b[38;5;28mself\u001b[39m\u001b[38;5;241m.\u001b[39mtol)\n",
      "\u001b[1;31mValueError\u001b[0m: n_samples=1 should be >= n_clusters=3."
     ]
    }
   ],
   "source": [
    "kmeans = KMeans(n_clusters=3, init='k-means++').fit(normalized_metrics)\n",
    "pred = kmeans.predict(normalized_metrics)\n",
    "\n",
    "experience_metrics_with_cluster = experience_agg_by_customer.copy()\n",
    "experience_metrics_with_cluster['clusters'] = pred\n",
    "experience_metrics_with_cluster['clusters'].value_counts()"
   ]
  },
  {
   "cell_type": "code",
   "execution_count": 41,
   "id": "aae4bd77",
   "metadata": {},
   "outputs": [
    {
     "ename": "NameError",
     "evalue": "name 'pred' is not defined",
     "output_type": "error",
     "traceback": [
      "\u001b[1;31m---------------------------------------------------------------------------\u001b[0m",
      "\u001b[1;31mNameError\u001b[0m                                 Traceback (most recent call last)",
      "Cell \u001b[1;32mIn[41], line 1\u001b[0m\n\u001b[1;32m----> 1\u001b[0m normalized_metrics[\u001b[38;5;124m'\u001b[39m\u001b[38;5;124mclusters\u001b[39m\u001b[38;5;124m'\u001b[39m] \u001b[38;5;241m=\u001b[39m pred\n\u001b[0;32m      2\u001b[0m plt\u001b[38;5;241m.\u001b[39mfigure(figsize\u001b[38;5;241m=\u001b[39m(\u001b[38;5;241m10\u001b[39m,\u001b[38;5;241m7\u001b[39m))\n\u001b[0;32m      4\u001b[0m sns\u001b[38;5;241m.\u001b[39mscatterplot(x \u001b[38;5;241m=\u001b[39m \u001b[38;5;124m'\u001b[39m\u001b[38;5;124mavg_throughput_kbps\u001b[39m\u001b[38;5;124m'\u001b[39m, y\u001b[38;5;241m=\u001b[39m\u001b[38;5;124m'\u001b[39m\u001b[38;5;124mavg_rtt_ms\u001b[39m\u001b[38;5;124m'\u001b[39m,\n\u001b[0;32m      5\u001b[0m                 hue\u001b[38;5;241m=\u001b[39m\u001b[38;5;124m'\u001b[39m\u001b[38;5;124mclusters\u001b[39m\u001b[38;5;124m'\u001b[39m, data\u001b[38;5;241m=\u001b[39mnormalized_metrics)\u001b[38;5;241m.\u001b[39mset_title(\u001b[38;5;124m'\u001b[39m\u001b[38;5;124mClusters of user engagement metric\u001b[39m\u001b[38;5;124m'\u001b[39m)\n",
      "\u001b[1;31mNameError\u001b[0m: name 'pred' is not defined"
     ]
    }
   ],
   "source": [
    "\n",
    "normalized_metrics['clusters'] = pred\n",
    "plt.figure(figsize=(10,7))\n",
    "\n",
    "sns.scatterplot(x = 'avg_throughput_kbps', y='avg_rtt_ms',\n",
    "                hue='clusters', data=normalized_metrics).set_title('Clusters of user engagement metric')\n",
    "\n",
    "plt.show()"
   ]
  },
  {
   "cell_type": "code",
   "execution_count": 42,
   "id": "94edee0a",
   "metadata": {},
   "outputs": [
    {
     "ename": "NameError",
     "evalue": "name 'experience_metrics_with_cluster' is not defined",
     "output_type": "error",
     "traceback": [
      "\u001b[1;31m---------------------------------------------------------------------------\u001b[0m",
      "\u001b[1;31mNameError\u001b[0m                                 Traceback (most recent call last)",
      "Cell \u001b[1;32mIn[42], line 1\u001b[0m\n\u001b[1;32m----> 1\u001b[0m TelecomHelper\u001b[38;5;241m.\u001b[39msave_csv(experience_metrics_with_cluster, \u001b[38;5;124m'\u001b[39m\u001b[38;5;124m../data/user_experience_metrics.csv\u001b[39m\u001b[38;5;124m'\u001b[39m)\n",
      "\u001b[1;31mNameError\u001b[0m: name 'experience_metrics_with_cluster' is not defined"
     ]
    }
   ],
   "source": [
    "TelecomHelper.save_csv(experience_metrics_with_cluster, '../data/user_experience_metrics.csv')"
   ]
  },
  {
   "cell_type": "code",
   "execution_count": 43,
   "id": "a229d966",
   "metadata": {},
   "outputs": [
    {
     "ename": "NameError",
     "evalue": "name 'kmeans' is not defined",
     "output_type": "error",
     "traceback": [
      "\u001b[1;31m---------------------------------------------------------------------------\u001b[0m",
      "\u001b[1;31mNameError\u001b[0m                                 Traceback (most recent call last)",
      "Cell \u001b[1;32mIn[43], line 2\u001b[0m\n\u001b[0;32m      1\u001b[0m normal_metrics_with_cluster_2 \u001b[38;5;241m=\u001b[39m normalized_metrics\u001b[38;5;241m.\u001b[39mcopy()\n\u001b[1;32m----> 2\u001b[0m kmeans\n",
      "\u001b[1;31mNameError\u001b[0m: name 'kmeans' is not defined"
     ]
    }
   ],
   "source": [
    "normal_metrics_with_cluster_2 = normalized_metrics.copy()\n",
    "kmeans"
   ]
  },
  {
   "cell_type": "code",
   "execution_count": 44,
   "id": "acc8bec7",
   "metadata": {},
   "outputs": [
    {
     "ename": "NameError",
     "evalue": "name 'kmeans' is not defined",
     "output_type": "error",
     "traceback": [
      "\u001b[1;31m---------------------------------------------------------------------------\u001b[0m",
      "\u001b[1;31mNameError\u001b[0m                                 Traceback (most recent call last)",
      "Cell \u001b[1;32mIn[44], line 1\u001b[0m\n\u001b[1;32m----> 1\u001b[0m distance \u001b[38;5;241m=\u001b[39m kmeans\u001b[38;5;241m.\u001b[39mfit_transform(normal_metrics_with_cluster_2)\n\u001b[0;32m      3\u001b[0m distance_from_less_exp \u001b[38;5;241m=\u001b[39m \u001b[38;5;28mlist\u001b[39m(\u001b[38;5;28mmap\u001b[39m(\u001b[38;5;28;01mlambda\u001b[39;00m x : x[\u001b[38;5;241m0\u001b[39m], distance))\n\u001b[0;32m      5\u001b[0m experience_metrics_with_cluster_2 \u001b[38;5;241m=\u001b[39m experience_metrics_with_cluster\u001b[38;5;241m.\u001b[39mcopy()\n",
      "\u001b[1;31mNameError\u001b[0m: name 'kmeans' is not defined"
     ]
    }
   ],
   "source": [
    "distance = kmeans.fit_transform(normal_metrics_with_cluster_2)\n",
    "\n",
    "distance_from_less_exp = list(map(lambda x : x[0], distance))\n",
    "\n",
    "experience_metrics_with_cluster_2 = experience_metrics_with_cluster.copy()\n",
    "experience_metrics_with_cluster_2['score'] = distance_from_less_exp"
   ]
  },
  {
   "cell_type": "code",
   "execution_count": 45,
   "id": "7eec8f73",
   "metadata": {},
   "outputs": [
    {
     "ename": "NameError",
     "evalue": "name 'experience_metrics_with_cluster_2' is not defined",
     "output_type": "error",
     "traceback": [
      "\u001b[1;31m---------------------------------------------------------------------------\u001b[0m",
      "\u001b[1;31mNameError\u001b[0m                                 Traceback (most recent call last)",
      "Cell \u001b[1;32mIn[45], line 1\u001b[0m\n\u001b[1;32m----> 1\u001b[0m experience_metrics_with_cluster_2[\u001b[38;5;124m'\u001b[39m\u001b[38;5;124mmsisdn\u001b[39m\u001b[38;5;124m'\u001b[39m] \u001b[38;5;241m=\u001b[39m experience_metrics_with_cluster_2\u001b[38;5;241m.\u001b[39mindex\n",
      "\u001b[1;31mNameError\u001b[0m: name 'experience_metrics_with_cluster_2' is not defined"
     ]
    }
   ],
   "source": [
    "experience_metrics_with_cluster_2['msisdn'] = experience_metrics_with_cluster_2.index"
   ]
  },
  {
   "cell_type": "code",
   "execution_count": 46,
   "id": "553c81e8",
   "metadata": {},
   "outputs": [
    {
     "ename": "NameError",
     "evalue": "name 'experience_metrics_with_cluster_2' is not defined",
     "output_type": "error",
     "traceback": [
      "\u001b[1;31m---------------------------------------------------------------------------\u001b[0m",
      "\u001b[1;31mNameError\u001b[0m                                 Traceback (most recent call last)",
      "Cell \u001b[1;32mIn[46], line 1\u001b[0m\n\u001b[1;32m----> 1\u001b[0m TelecomHelper\u001b[38;5;241m.\u001b[39msave_csv(experience_metrics_with_cluster_2, \u001b[38;5;124m'\u001b[39m\u001b[38;5;124m../data/user_experience_metrics.csv\u001b[39m\u001b[38;5;124m'\u001b[39m)\n",
      "\u001b[1;31mNameError\u001b[0m: name 'experience_metrics_with_cluster_2' is not defined"
     ]
    }
   ],
   "source": [
    "TelecomHelper.save_csv(experience_metrics_with_cluster_2, '../data/user_experience_metrics.csv')"
   ]
  },
  {
   "cell_type": "code",
   "execution_count": null,
   "id": "99d0dc15",
   "metadata": {},
   "outputs": [],
   "source": []
  }
 ],
 "metadata": {
  "kernelspec": {
   "display_name": "Python 3 (ipykernel)",
   "language": "python",
   "name": "python3"
  },
  "language_info": {
   "codemirror_mode": {
    "name": "ipython",
    "version": 3
   },
   "file_extension": ".py",
   "mimetype": "text/x-python",
   "name": "python",
   "nbconvert_exporter": "python",
   "pygments_lexer": "ipython3",
   "version": "3.11.5"
  }
 },
 "nbformat": 4,
 "nbformat_minor": 5
}
