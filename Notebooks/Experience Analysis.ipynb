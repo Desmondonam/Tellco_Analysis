{
 "cells": [
  {
   "cell_type": "code",
   "execution_count": 1,
   "id": "af6feb49",
   "metadata": {},
   "outputs": [],
   "source": [
    "import os\n",
    "import sys\n",
    "sys.path.append(os.path.abspath(os.path.join('../scripts')))\n",
    "import seaborn as sns\n",
    "import matplotlib.pyplot as plt\n",
    "%matplotlib inline\n",
    "\n",
    "import plotly.express as px"
   ]
  },
  {
   "cell_type": "code",
   "execution_count": 2,
   "id": "5d84e05a",
   "metadata": {},
   "outputs": [],
   "source": [
    "import warnings\n",
    "warnings.filterwarnings('ignore')"
   ]
  },
  {
   "cell_type": "code",
   "execution_count": 4,
   "id": "ef3f16a0",
   "metadata": {},
   "outputs": [],
   "source": [
    "class plots:\n",
    "    \n",
    "    def plot_hist(df:pd.DataFrame, column:str, color:str)->None:\n",
    "        plt.figure(figsize=(9, 7))\n",
    "        sns.displot(data=df, x=column, color=color, kde=True, height=7, aspect=2)\n",
    "        plt.title(f'Distribution of {column}', size=20, fontweight='bold')\n",
    "        plt.show()\n",
    "\n",
    "    def plot_dist(df:pd.DataFrame, column:str):\n",
    "        plt.figure(figsize=(9,7))\n",
    "        sns.distplot(df).set_title(f'Distribution of {column}')\n",
    "        plt.show()\n",
    "\n",
    "\n",
    "    def plot_count(df:pd.DataFrame, column:str) -> None:\n",
    "        plt.figure(figsize=(12, 7))\n",
    "        sns.countplot(data=df, x=column)\n",
    "        plt.title(f'Plot count of {column}', size=20, fontweight='bold')\n",
    "        plt.show()\n",
    "\n",
    "    def plot_bar(df:pd.DataFrame, x_col:str, y_col:str, title:str, xlabel:str, ylabel:str)->None:\n",
    "        plt.figure(figsize=(12, 7))\n",
    "        sns.barplot(data = df, x=x_col, y=y_col)\n",
    "        plt.title(title, size=20)\n",
    "        plt.xticks(rotation=75, fontsize=14)\n",
    "        plt.yticks( fontsize=14)\n",
    "        plt.xlabel(xlabel, fontsize=16)\n",
    "        plt.ylabel(ylabel, fontsize=16)\n",
    "        plt.show()\n",
    "\n",
    "    def plot_heatmap(df:pd.DataFrame, title:str, cbar=False)->None:\n",
    "        plt.figure(figsize=(12, 7))\n",
    "        sns.heatmap(df, annot=True, cmap='viridis', vmin=0, vmax=1, fmt='.2f', linewidths=.7, cbar=cbar )\n",
    "        plt.title(title, size=18, fontweight='bold')\n",
    "        plt.show()\n",
    "\n",
    "    def plot_box(df:pd.DataFrame, x_col:str, title:str) -> None:\n",
    "        plt.figure(figsize=(12, 7))\n",
    "        sns.boxplot(data = df, x=x_col)\n",
    "        plt.title(title, size=20)\n",
    "        plt.xticks(rotation=75, fontsize=14)\n",
    "        plt.show()\n",
    "\n",
    "    def plot_box_multi(df:pd.DataFrame, x_col:str, y_col:str, title:str) -> None:\n",
    "        plt.figure(figsize=(12, 7))\n",
    "        sns.boxplot(data = df, x=x_col, y=y_col)\n",
    "        plt.title(title, size=20)\n",
    "        plt.xticks(rotation=75, fontsize=14)\n",
    "        plt.yticks( fontsize=14)\n",
    "        plt.show()\n",
    "\n",
    "    def plot_scatter(df: pd.DataFrame, x_col: str, y_col: str, title: str, hue: str, style: str) -> None:\n",
    "        plt.figure(figsize=(10, 8))\n",
    "        sns.scatterplot(data = df, x=x_col, y=y_col, hue=hue, style=style)\n",
    "        plt.title(title, size=20)\n",
    "        plt.xticks(fontsize=14)\n",
    "        plt.yticks( fontsize=14)\n",
    "        plt.show()"
   ]
  },
  {
   "cell_type": "code",
   "execution_count": 7,
   "id": "d38009fd",
   "metadata": {},
   "outputs": [],
   "source": [
    "import numpy as np\n",
    "import pandas as pd\n",
    "from helper import TelecomHelper"
   ]
  },
  {
   "cell_type": "code",
   "execution_count": 8,
   "id": "a43e08dc",
   "metadata": {},
   "outputs": [],
   "source": [
    "CSV_PATH = \"../data/cleaned_data.csv\""
   ]
  },
  {
   "cell_type": "code",
   "execution_count": 9,
   "id": "b174df2e",
   "metadata": {},
   "outputs": [],
   "source": [
    "TelecomHelper = TelecomHelper()"
   ]
  },
  {
   "cell_type": "code",
   "execution_count": 11,
   "id": "ed303e78",
   "metadata": {},
   "outputs": [
    {
     "name": "stdout",
     "output_type": "stream",
     "text": [
      "file read as csv\n"
     ]
    }
   ],
   "source": [
    "df = TelecomHelper.read_csv(CSV_PATH)"
   ]
  },
  {
   "cell_type": "code",
   "execution_count": 12,
   "id": "186e8e34",
   "metadata": {},
   "outputs": [],
   "source": [
    "df['msisdn/number'] = df['msisdn/number'].astype(\"int\")\n",
    "df['msisdn/number'] = df['msisdn/number'].astype(\"category\")\n",
    "\n",
    "df['handset_type'] = df['handset_type'].astype(\"category\")\n",
    "cleaned_df = df"
   ]
  },
  {
   "cell_type": "code",
   "execution_count": 16,
   "id": "d524584c",
   "metadata": {},
   "outputs": [
    {
     "data": {
      "text/plain": [
       "['bearer_id',\n",
       " 'start',\n",
       " 'start_ms',\n",
       " 'end',\n",
       " 'end_ms',\n",
       " 'dur._(ms)',\n",
       " 'imsi',\n",
       " 'msisdn/number',\n",
       " 'imei',\n",
       " 'last_location_name',\n",
       " 'avg_rtt_dl_(ms)',\n",
       " 'avg_rtt_ul_(ms)',\n",
       " 'avg_bearer_tp_dl_(kbps)',\n",
       " 'avg_bearer_tp_ul_(kbps)',\n",
       " 'dl_tp_<_50_kbps_(%)',\n",
       " '50_kbps_<_dl_tp_<_250_kbps_(%)',\n",
       " '250_kbps_<_dl_tp_<_1_mbps_(%)',\n",
       " 'dl_tp_>_1_mbps_(%)',\n",
       " 'ul_tp_<_10_kbps_(%)',\n",
       " '10_kbps_<_ul_tp_<_50_kbps_(%)',\n",
       " '50_kbps_<_ul_tp_<_300_kbps_(%)',\n",
       " 'ul_tp_>_300_kbps_(%)',\n",
       " 'activity_duration_dl_(ms)',\n",
       " 'activity_duration_ul_(ms)',\n",
       " 'dur._(ms).1',\n",
       " 'handset_manufacturer',\n",
       " 'handset_type',\n",
       " 'nb_of_sec_with_vol_dl_<_6250b',\n",
       " 'nb_of_sec_with_vol_ul_<_1250b',\n",
       " 'social_media_dl_(bytes)',\n",
       " 'social_media_ul_(bytes)',\n",
       " 'google_dl_(bytes)',\n",
       " 'google_ul_(bytes)',\n",
       " 'email_dl_(bytes)',\n",
       " 'email_ul_(bytes)',\n",
       " 'youtube_dl_(bytes)',\n",
       " 'youtube_ul_(bytes)',\n",
       " 'netflix_dl_(bytes)',\n",
       " 'netflix_ul_(bytes)',\n",
       " 'gaming_dl_(bytes)',\n",
       " 'gaming_ul_(bytes)',\n",
       " 'other_dl_(bytes)',\n",
       " 'other_ul_(bytes)',\n",
       " 'total_ul_(bytes)',\n",
       " 'total_dl_(bytes)',\n",
       " 'social_media',\n",
       " 'google',\n",
       " 'email',\n",
       " 'youtube',\n",
       " 'netflix',\n",
       " 'gaming',\n",
       " 'other',\n",
       " 'total_data']"
      ]
     },
     "execution_count": 16,
     "metadata": {},
     "output_type": "execute_result"
    }
   ],
   "source": [
    "list(cleaned_df.columns.values)"
   ]
  },
  {
   "cell_type": "code",
   "execution_count": 17,
   "id": "041d5f1f",
   "metadata": {},
   "outputs": [
    {
     "data": {
      "text/html": [
       "<div>\n",
       "<style scoped>\n",
       "    .dataframe tbody tr th:only-of-type {\n",
       "        vertical-align: middle;\n",
       "    }\n",
       "\n",
       "    .dataframe tbody tr th {\n",
       "        vertical-align: top;\n",
       "    }\n",
       "\n",
       "    .dataframe thead th {\n",
       "        text-align: right;\n",
       "    }\n",
       "</style>\n",
       "<table border=\"1\" class=\"dataframe\">\n",
       "  <thead>\n",
       "    <tr style=\"text-align: right;\">\n",
       "      <th></th>\n",
       "      <th>msisdn/number</th>\n",
       "      <th>avg_rtt_dl_(ms)</th>\n",
       "      <th>avg_rtt_ul_(ms)</th>\n",
       "      <th>avg_bearer_tp_dl_(kbps)</th>\n",
       "      <th>avg_bearer_tp_ul_(kbps)</th>\n",
       "      <th>handset_type</th>\n",
       "    </tr>\n",
       "  </thead>\n",
       "  <tbody>\n",
       "    <tr>\n",
       "      <th>0</th>\n",
       "      <td>-2147483648</td>\n",
       "      <td>42.000000</td>\n",
       "      <td>5.000000</td>\n",
       "      <td>23.0</td>\n",
       "      <td>44.0</td>\n",
       "      <td>Samsung Galaxy A5 Sm-A520F</td>\n",
       "    </tr>\n",
       "    <tr>\n",
       "      <th>1</th>\n",
       "      <td>-2147483648</td>\n",
       "      <td>65.000000</td>\n",
       "      <td>5.000000</td>\n",
       "      <td>16.0</td>\n",
       "      <td>26.0</td>\n",
       "      <td>Samsung Galaxy J5 (Sm-J530)</td>\n",
       "    </tr>\n",
       "    <tr>\n",
       "      <th>2</th>\n",
       "      <td>-2147483648</td>\n",
       "      <td>105.959783</td>\n",
       "      <td>17.633655</td>\n",
       "      <td>6.0</td>\n",
       "      <td>9.0</td>\n",
       "      <td>Samsung Galaxy A8 (2018)</td>\n",
       "    </tr>\n",
       "    <tr>\n",
       "      <th>3</th>\n",
       "      <td>-2147483648</td>\n",
       "      <td>105.959783</td>\n",
       "      <td>17.633655</td>\n",
       "      <td>44.0</td>\n",
       "      <td>44.0</td>\n",
       "      <td>Samsung Galaxy A8 (2018)</td>\n",
       "    </tr>\n",
       "    <tr>\n",
       "      <th>4</th>\n",
       "      <td>-2147483648</td>\n",
       "      <td>105.959783</td>\n",
       "      <td>17.633655</td>\n",
       "      <td>6.0</td>\n",
       "      <td>9.0</td>\n",
       "      <td>Samsung Sm-G390F</td>\n",
       "    </tr>\n",
       "  </tbody>\n",
       "</table>\n",
       "</div>"
      ],
      "text/plain": [
       "  msisdn/number  avg_rtt_dl_(ms)  avg_rtt_ul_(ms)  avg_bearer_tp_dl_(kbps)  \\\n",
       "0   -2147483648        42.000000         5.000000                     23.0   \n",
       "1   -2147483648        65.000000         5.000000                     16.0   \n",
       "2   -2147483648       105.959783        17.633655                      6.0   \n",
       "3   -2147483648       105.959783        17.633655                     44.0   \n",
       "4   -2147483648       105.959783        17.633655                      6.0   \n",
       "\n",
       "   avg_bearer_tp_ul_(kbps)                 handset_type  \n",
       "0                     44.0   Samsung Galaxy A5 Sm-A520F  \n",
       "1                     26.0  Samsung Galaxy J5 (Sm-J530)  \n",
       "2                      9.0     Samsung Galaxy A8 (2018)  \n",
       "3                     44.0     Samsung Galaxy A8 (2018)  \n",
       "4                      9.0             Samsung Sm-G390F  "
      ]
     },
     "execution_count": 17,
     "metadata": {},
     "output_type": "execute_result"
    }
   ],
   "source": [
    "experience_df = cleaned_df[['msisdn/number', 'avg_rtt_dl_(ms)', 'avg_rtt_ul_(ms)', \n",
    "           'avg_bearer_tp_dl_(kbps)', 'avg_bearer_tp_ul_(kbps)',\n",
    "           'handset_type']]\n",
    "\n",
    "experience_df.head()"
   ]
  },
  {
   "cell_type": "code",
   "execution_count": 18,
   "id": "f897facb",
   "metadata": {},
   "outputs": [],
   "source": [
    "def handle_outliers(df, col, method=\"lower_upper\"):\n",
    "    df = df.copy()\n",
    "    q1 = df[col].quantile(0.25)\n",
    "    q3 = df[col].quantile(0.75)\n",
    "    \n",
    "    lower_bound = q1 - ((1.5) * (q3 - q1))\n",
    "    upper_bound = q3 + ((1.5) * (q3 - q1))\n",
    "    \n",
    "    if method == \"mean\":\n",
    "        df[col] = np.where(df[col] < lower_bound,   df[col].mean(), df[col])\n",
    "        df[col] = np.where(df[col] > upper_bound, df[col].mean(), df[col])\n",
    "    \n",
    "    elif  method == \"mode\":\n",
    "        df[col] = np.where(df[col] < lower_bound,   df[col].mode()[0], df[col])\n",
    "        df[col] = np.where(df[col] > upper_bound, df[col].mode()[0], df[col])\n",
    "    else:\n",
    "        df[col] = np.where(df[col] < lower_bound, lower_bound, df[col])\n",
    "        df[col] = np.where(df[col] > upper_bound, upper_bound, df[col])\n",
    "    \n",
    "    return df"
   ]
  },
  {
   "cell_type": "code",
   "execution_count": 20,
   "id": "26e2018f",
   "metadata": {},
   "outputs": [],
   "source": [
    "cleaned_experience_df = handle_outliers(experience_df, 'avg_rtt_dl_(ms)', method=\"mean\")\n",
    "cleaned_experience_df = handle_outliers(experience_df, 'avg_rtt_ul_(ms)', method=\"mean\")\n",
    "\n",
    "cleaned_experience_df = handle_outliers(experience_df, 'avg_bearer_tp_dl_(kbps)', method=\"mean\")\n",
    "cleaned_experience_df = handle_outliers(experience_df, 'avg_bearer_tp_ul_(kbps)', method=\"mean\")\n"
   ]
  },
  {
   "cell_type": "code",
   "execution_count": null,
   "id": "34a516a2",
   "metadata": {},
   "outputs": [],
   "source": []
  }
 ],
 "metadata": {
  "kernelspec": {
   "display_name": "Python 3 (ipykernel)",
   "language": "python",
   "name": "python3"
  },
  "language_info": {
   "codemirror_mode": {
    "name": "ipython",
    "version": 3
   },
   "file_extension": ".py",
   "mimetype": "text/x-python",
   "name": "python",
   "nbconvert_exporter": "python",
   "pygments_lexer": "ipython3",
   "version": "3.11.5"
  }
 },
 "nbformat": 4,
 "nbformat_minor": 5
}
