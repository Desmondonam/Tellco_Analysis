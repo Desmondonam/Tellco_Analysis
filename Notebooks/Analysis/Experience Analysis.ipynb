{
 "cells": [
  {
   "cell_type": "code",
   "execution_count": 3,
   "id": "af6feb49",
   "metadata": {},
   "outputs": [],
   "source": [
    "import os\n",
    "import sys\n",
    "sys.path.append(os.path.abspath(os.path.join(r'C:\\Users\\Admin\\Desktop\\Havartechs\\Projects\\Telecommunication\\Tellco_Analysis\\scripts')))\n",
    "import seaborn as sns\n",
    "import matplotlib.pyplot as plt\n",
    "%matplotlib inline\n",
    "import numpy as np\n",
    "import pandas as pd\n",
    "#from CleanTelecomData import clean_telecom_data\n",
    "from helper import TelecomHelper\n",
    "from plots import plots\n",
    "\n",
    "import plotly.express as px\n",
    "\n",
    "# Ignore warnings\n",
    "import warnings\n",
    "warnings.filterwarnings('ignore')"
   ]
  },
  {
   "cell_type": "markdown",
   "id": "4f462cca",
   "metadata": {},
   "source": [
    "### Load the cleaned dataframe"
   ]
  },
  {
   "cell_type": "code",
   "execution_count": 4,
   "id": "a43e08dc",
   "metadata": {},
   "outputs": [],
   "source": [
    "CSV_PATH = r\"C:\\Users\\Admin\\Desktop\\Havartechs\\Projects\\Telecommunication\\Tellco_Analysis\\Data\\cleaned_data.csv\""
   ]
  },
  {
   "cell_type": "code",
   "execution_count": 5,
   "id": "b174df2e",
   "metadata": {},
   "outputs": [],
   "source": [
    "TelecomHelper = TelecomHelper()"
   ]
  },
  {
   "cell_type": "code",
   "execution_count": 6,
   "id": "ed303e78",
   "metadata": {},
   "outputs": [
    {
     "name": "stdout",
     "output_type": "stream",
     "text": [
      "file read as csv\n"
     ]
    }
   ],
   "source": [
    "df = TelecomHelper.read_csv(CSV_PATH)"
   ]
  },
  {
   "cell_type": "markdown",
   "id": "a33175f7",
   "metadata": {},
   "source": [
    "### Change the handset_type and the msisdn to categorical type"
   ]
  },
  {
   "cell_type": "code",
   "execution_count": 7,
   "id": "186e8e34",
   "metadata": {},
   "outputs": [],
   "source": [
    "df['msisdn/number'] = df['msisdn/number'].astype(\"int\")\n",
    "df['msisdn/number'] = df['msisdn/number'].astype(\"category\")\n",
    "\n",
    "df['handset_type'] = df['handset_type'].astype(\"category\")\n",
    "cleaned_df = df"
   ]
  },
  {
   "cell_type": "code",
   "execution_count": 8,
   "id": "041d5f1f",
   "metadata": {},
   "outputs": [
    {
     "data": {
      "text/html": [
       "<div>\n",
       "<style scoped>\n",
       "    .dataframe tbody tr th:only-of-type {\n",
       "        vertical-align: middle;\n",
       "    }\n",
       "\n",
       "    .dataframe tbody tr th {\n",
       "        vertical-align: top;\n",
       "    }\n",
       "\n",
       "    .dataframe thead th {\n",
       "        text-align: right;\n",
       "    }\n",
       "</style>\n",
       "<table border=\"1\" class=\"dataframe\">\n",
       "  <thead>\n",
       "    <tr style=\"text-align: right;\">\n",
       "      <th></th>\n",
       "      <th>msisdn/number</th>\n",
       "      <th>avg_rtt_dl_(ms)</th>\n",
       "      <th>avg_rtt_ul_(ms)</th>\n",
       "      <th>avg_bearer_tp_dl_(kbps)</th>\n",
       "      <th>avg_bearer_tp_ul_(kbps)</th>\n",
       "      <th>tcp_ul_retrans._vol_(bytes)</th>\n",
       "      <th>tcp_dl_retrans._vol_(bytes)</th>\n",
       "      <th>handset_type</th>\n",
       "    </tr>\n",
       "  </thead>\n",
       "  <tbody>\n",
       "    <tr>\n",
       "      <th>0</th>\n",
       "      <td>-2147483648</td>\n",
       "      <td>42.000000</td>\n",
       "      <td>5.000000</td>\n",
       "      <td>23.0</td>\n",
       "      <td>44.0</td>\n",
       "      <td>772902.274842</td>\n",
       "      <td>2.105238e+07</td>\n",
       "      <td>Samsung Galaxy A5 Sm-A520F</td>\n",
       "    </tr>\n",
       "    <tr>\n",
       "      <th>1</th>\n",
       "      <td>-2147483648</td>\n",
       "      <td>65.000000</td>\n",
       "      <td>5.000000</td>\n",
       "      <td>16.0</td>\n",
       "      <td>26.0</td>\n",
       "      <td>772902.274842</td>\n",
       "      <td>2.105238e+07</td>\n",
       "      <td>Samsung Galaxy J5 (Sm-J530)</td>\n",
       "    </tr>\n",
       "    <tr>\n",
       "      <th>2</th>\n",
       "      <td>-2147483648</td>\n",
       "      <td>105.959783</td>\n",
       "      <td>17.633655</td>\n",
       "      <td>6.0</td>\n",
       "      <td>9.0</td>\n",
       "      <td>772902.274842</td>\n",
       "      <td>2.105238e+07</td>\n",
       "      <td>Samsung Galaxy A8 (2018)</td>\n",
       "    </tr>\n",
       "    <tr>\n",
       "      <th>3</th>\n",
       "      <td>-2147483648</td>\n",
       "      <td>105.959783</td>\n",
       "      <td>17.633655</td>\n",
       "      <td>44.0</td>\n",
       "      <td>44.0</td>\n",
       "      <td>772902.274842</td>\n",
       "      <td>2.105238e+07</td>\n",
       "      <td>Samsung Galaxy A8 (2018)</td>\n",
       "    </tr>\n",
       "    <tr>\n",
       "      <th>4</th>\n",
       "      <td>-2147483648</td>\n",
       "      <td>105.959783</td>\n",
       "      <td>17.633655</td>\n",
       "      <td>6.0</td>\n",
       "      <td>9.0</td>\n",
       "      <td>772902.274842</td>\n",
       "      <td>2.105238e+07</td>\n",
       "      <td>Samsung Sm-G390F</td>\n",
       "    </tr>\n",
       "  </tbody>\n",
       "</table>\n",
       "</div>"
      ],
      "text/plain": [
       "  msisdn/number  avg_rtt_dl_(ms)  avg_rtt_ul_(ms)  avg_bearer_tp_dl_(kbps)  \\\n",
       "0   -2147483648        42.000000         5.000000                     23.0   \n",
       "1   -2147483648        65.000000         5.000000                     16.0   \n",
       "2   -2147483648       105.959783        17.633655                      6.0   \n",
       "3   -2147483648       105.959783        17.633655                     44.0   \n",
       "4   -2147483648       105.959783        17.633655                      6.0   \n",
       "\n",
       "   avg_bearer_tp_ul_(kbps)  tcp_ul_retrans._vol_(bytes)  \\\n",
       "0                     44.0                772902.274842   \n",
       "1                     26.0                772902.274842   \n",
       "2                      9.0                772902.274842   \n",
       "3                     44.0                772902.274842   \n",
       "4                      9.0                772902.274842   \n",
       "\n",
       "   tcp_dl_retrans._vol_(bytes)                 handset_type  \n",
       "0                 2.105238e+07   Samsung Galaxy A5 Sm-A520F  \n",
       "1                 2.105238e+07  Samsung Galaxy J5 (Sm-J530)  \n",
       "2                 2.105238e+07     Samsung Galaxy A8 (2018)  \n",
       "3                 2.105238e+07     Samsung Galaxy A8 (2018)  \n",
       "4                 2.105238e+07             Samsung Sm-G390F  "
      ]
     },
     "execution_count": 8,
     "metadata": {},
     "output_type": "execute_result"
    }
   ],
   "source": [
    "experience_df = cleaned_df[['msisdn/number', 'avg_rtt_dl_(ms)', 'avg_rtt_ul_(ms)', \n",
    "           'avg_bearer_tp_dl_(kbps)', 'avg_bearer_tp_ul_(kbps)',\n",
    "           'tcp_ul_retrans._vol_(bytes)', 'tcp_dl_retrans._vol_(bytes)',\n",
    "           'handset_type']]\n",
    "\n",
    "experience_df.head()"
   ]
  },
  {
   "cell_type": "code",
   "execution_count": 9,
   "id": "f897facb",
   "metadata": {},
   "outputs": [],
   "source": [
    "#handling outlier by replacing them with mean and mode\n",
    "def handle_outliers(df, col, method=\"lower_upper\"):\n",
    "    df = df.copy()\n",
    "    q1 = df[col].quantile(0.25)\n",
    "    q3 = df[col].quantile(0.75)\n",
    "    \n",
    "    lower_bound = q1 - ((1.5) * (q3 - q1))\n",
    "    upper_bound = q3 + ((1.5) * (q3 - q1))\n",
    "    \n",
    "    if method == \"mean\":\n",
    "        df[col] = np.where(df[col] < lower_bound,   df[col].mean(), df[col])\n",
    "        df[col] = np.where(df[col] > upper_bound, df[col].mean(), df[col])\n",
    "    \n",
    "    elif  method == \"mode\":\n",
    "        df[col] = np.where(df[col] < lower_bound,   df[col].mode()[0], df[col])\n",
    "        df[col] = np.where(df[col] > upper_bound, df[col].mode()[0], df[col])\n",
    "    else:\n",
    "        df[col] = np.where(df[col] < lower_bound, lower_bound, df[col])\n",
    "        df[col] = np.where(df[col] > upper_bound, upper_bound, df[col])\n",
    "    \n",
    "    return df"
   ]
  },
  {
   "cell_type": "code",
   "execution_count": 10,
   "id": "26e2018f",
   "metadata": {},
   "outputs": [],
   "source": [
    "# Extracting and constructructing our experience metrics\n",
    "cleaned_experience_df = handle_outliers(experience_df, 'avg_rtt_dl_(ms)', method=\"mean\")\n",
    "cleaned_experience_df = handle_outliers(experience_df, 'avg_rtt_ul_(ms)', method=\"mean\")\n",
    "\n",
    "cleaned_experience_df = handle_outliers(experience_df, 'avg_bearer_tp_dl_(kbps)', method=\"mean\")\n",
    "cleaned_experience_df = handle_outliers(experience_df, 'avg_bearer_tp_ul_(kbps)', method=\"mean\")\n",
    "\n",
    "cleaned_experience_df = handle_outliers(experience_df, 'tcp_ul_retrans._vol_(bytes)', method=\"mean\")\n",
    "cleaned_experience_df = handle_outliers(experience_df, 'tcp_dl_retrans._vol_(bytes)', method=\"mean\")\n"
   ]
  },
  {
   "cell_type": "code",
   "execution_count": 11,
   "id": "34a516a2",
   "metadata": {},
   "outputs": [],
   "source": [
    "experience_metrics_df = pd.DataFrame(columns=['msisdn', 'handset_type', 'avg_rtt_ms',\n",
    "                                              'avg_throughput_kbps', 'tcp_retrans_bytes'])\n",
    "\n",
    "experience_metrics_df['avg_rtt_ms'] = cleaned_experience_df['avg_rtt_dl_(ms)'] + cleaned_experience_df['avg_rtt_ul_(ms)']\n",
    "experience_metrics_df['avg_throughput_kbps'] = cleaned_experience_df['avg_bearer_tp_dl_(kbps)'] + cleaned_experience_df['avg_bearer_tp_ul_(kbps)']\n",
    "experience_metrics_df['tcp_retrans_bytes'] = cleaned_experience_df['tcp_ul_retrans._vol_(bytes)'] + cleaned_experience_df['tcp_dl_retrans._vol_(bytes)']\n",
    "\n",
    "experience_metrics_df['msisdn'] = cleaned_experience_df['msisdn/number']\n",
    "experience_metrics_df['handset_type'] = cleaned_experience_df['handset_type']"
   ]
  },
  {
   "cell_type": "code",
   "execution_count": 12,
   "id": "36621c42",
   "metadata": {},
   "outputs": [
    {
     "data": {
      "text/html": [
       "<div>\n",
       "<style scoped>\n",
       "    .dataframe tbody tr th:only-of-type {\n",
       "        vertical-align: middle;\n",
       "    }\n",
       "\n",
       "    .dataframe tbody tr th {\n",
       "        vertical-align: top;\n",
       "    }\n",
       "\n",
       "    .dataframe thead th {\n",
       "        text-align: right;\n",
       "    }\n",
       "</style>\n",
       "<table border=\"1\" class=\"dataframe\">\n",
       "  <thead>\n",
       "    <tr style=\"text-align: right;\">\n",
       "      <th></th>\n",
       "      <th>msisdn</th>\n",
       "      <th>handset_type</th>\n",
       "      <th>avg_rtt_ms</th>\n",
       "      <th>avg_throughput_kbps</th>\n",
       "      <th>tcp_retrans_bytes</th>\n",
       "    </tr>\n",
       "  </thead>\n",
       "  <tbody>\n",
       "    <tr>\n",
       "      <th>0</th>\n",
       "      <td>-2147483648</td>\n",
       "      <td>Samsung Galaxy A5 Sm-A520F</td>\n",
       "      <td>47.000000</td>\n",
       "      <td>67.0</td>\n",
       "      <td>2.182528e+07</td>\n",
       "    </tr>\n",
       "    <tr>\n",
       "      <th>1</th>\n",
       "      <td>-2147483648</td>\n",
       "      <td>Samsung Galaxy J5 (Sm-J530)</td>\n",
       "      <td>70.000000</td>\n",
       "      <td>42.0</td>\n",
       "      <td>2.182528e+07</td>\n",
       "    </tr>\n",
       "    <tr>\n",
       "      <th>2</th>\n",
       "      <td>-2147483648</td>\n",
       "      <td>Samsung Galaxy A8 (2018)</td>\n",
       "      <td>123.593439</td>\n",
       "      <td>15.0</td>\n",
       "      <td>2.182528e+07</td>\n",
       "    </tr>\n",
       "    <tr>\n",
       "      <th>3</th>\n",
       "      <td>-2147483648</td>\n",
       "      <td>Samsung Galaxy A8 (2018)</td>\n",
       "      <td>123.593439</td>\n",
       "      <td>88.0</td>\n",
       "      <td>2.182528e+07</td>\n",
       "    </tr>\n",
       "    <tr>\n",
       "      <th>4</th>\n",
       "      <td>-2147483648</td>\n",
       "      <td>Samsung Sm-G390F</td>\n",
       "      <td>123.593439</td>\n",
       "      <td>15.0</td>\n",
       "      <td>2.182528e+07</td>\n",
       "    </tr>\n",
       "  </tbody>\n",
       "</table>\n",
       "</div>"
      ],
      "text/plain": [
       "       msisdn                 handset_type  avg_rtt_ms  avg_throughput_kbps  \\\n",
       "0 -2147483648   Samsung Galaxy A5 Sm-A520F   47.000000                 67.0   \n",
       "1 -2147483648  Samsung Galaxy J5 (Sm-J530)   70.000000                 42.0   \n",
       "2 -2147483648     Samsung Galaxy A8 (2018)  123.593439                 15.0   \n",
       "3 -2147483648     Samsung Galaxy A8 (2018)  123.593439                 88.0   \n",
       "4 -2147483648             Samsung Sm-G390F  123.593439                 15.0   \n",
       "\n",
       "   tcp_retrans_bytes  \n",
       "0       2.182528e+07  \n",
       "1       2.182528e+07  \n",
       "2       2.182528e+07  \n",
       "3       2.182528e+07  \n",
       "4       2.182528e+07  "
      ]
     },
     "execution_count": 12,
     "metadata": {},
     "output_type": "execute_result"
    }
   ],
   "source": [
    "experience_metrics_df.head()"
   ]
  },
  {
   "cell_type": "code",
   "execution_count": 13,
   "id": "25a12564",
   "metadata": {},
   "outputs": [
    {
     "data": {
      "text/html": [
       "<div>\n",
       "<style scoped>\n",
       "    .dataframe tbody tr th:only-of-type {\n",
       "        vertical-align: middle;\n",
       "    }\n",
       "\n",
       "    .dataframe tbody tr th {\n",
       "        vertical-align: top;\n",
       "    }\n",
       "\n",
       "    .dataframe thead th {\n",
       "        text-align: right;\n",
       "    }\n",
       "</style>\n",
       "<table border=\"1\" class=\"dataframe\">\n",
       "  <thead>\n",
       "    <tr style=\"text-align: right;\">\n",
       "      <th></th>\n",
       "      <th>avg_rtt_ms</th>\n",
       "      <th>avg_throughput_kbps</th>\n",
       "      <th>tcp_retrans_bytes</th>\n",
       "    </tr>\n",
       "  </thead>\n",
       "  <tbody>\n",
       "    <tr>\n",
       "      <th>count</th>\n",
       "      <td>146891.000000</td>\n",
       "      <td>146891.000000</td>\n",
       "      <td>1.468910e+05</td>\n",
       "    </tr>\n",
       "    <tr>\n",
       "      <th>mean</th>\n",
       "      <td>123.593439</td>\n",
       "      <td>15207.646609</td>\n",
       "      <td>1.488153e+07</td>\n",
       "    </tr>\n",
       "    <tr>\n",
       "      <th>std</th>\n",
       "      <td>537.295718</td>\n",
       "      <td>26952.835523</td>\n",
       "      <td>1.878126e+07</td>\n",
       "    </tr>\n",
       "    <tr>\n",
       "      <th>min</th>\n",
       "      <td>0.000000</td>\n",
       "      <td>0.000000</td>\n",
       "      <td>8.600000e+01</td>\n",
       "    </tr>\n",
       "    <tr>\n",
       "      <th>25%</th>\n",
       "      <td>40.000000</td>\n",
       "      <td>90.000000</td>\n",
       "      <td>1.521045e+06</td>\n",
       "    </tr>\n",
       "    <tr>\n",
       "      <th>50%</th>\n",
       "      <td>66.000000</td>\n",
       "      <td>126.000000</td>\n",
       "      <td>2.182528e+07</td>\n",
       "    </tr>\n",
       "    <tr>\n",
       "      <th>75%</th>\n",
       "      <td>123.593439</td>\n",
       "      <td>22702.500000</td>\n",
       "      <td>2.182528e+07</td>\n",
       "    </tr>\n",
       "    <tr>\n",
       "      <th>max</th>\n",
       "      <td>96924.000000</td>\n",
       "      <td>382262.000000</td>\n",
       "      <td>2.913408e+09</td>\n",
       "    </tr>\n",
       "  </tbody>\n",
       "</table>\n",
       "</div>"
      ],
      "text/plain": [
       "          avg_rtt_ms  avg_throughput_kbps  tcp_retrans_bytes\n",
       "count  146891.000000        146891.000000       1.468910e+05\n",
       "mean      123.593439         15207.646609       1.488153e+07\n",
       "std       537.295718         26952.835523       1.878126e+07\n",
       "min         0.000000             0.000000       8.600000e+01\n",
       "25%        40.000000            90.000000       1.521045e+06\n",
       "50%        66.000000           126.000000       2.182528e+07\n",
       "75%       123.593439         22702.500000       2.182528e+07\n",
       "max     96924.000000        382262.000000       2.913408e+09"
      ]
     },
     "execution_count": 13,
     "metadata": {},
     "output_type": "execute_result"
    }
   ],
   "source": [
    "experience_metrics_df.describe()"
   ]
  },
  {
   "cell_type": "code",
   "execution_count": 14,
   "id": "3799301e",
   "metadata": {},
   "outputs": [],
   "source": [
    "# Task 3.1, aggregate, average, average RTT, handset type, through output per customer\n",
    "experience_agg_by_customer = experience_metrics_df.groupby('msisdn').agg({'avg_rtt_ms': 'sum',\n",
    "                                                                          'avg_throughput_kbps': 'sum',\n",
    "                                                                          'tcp_retrans_bytes': 'sum', \n",
    "                                                                           'handset_type': lambda x: x.mode()[0]})\n"
   ]
  },
  {
   "cell_type": "code",
   "execution_count": 15,
   "id": "6cf0fdd1",
   "metadata": {},
   "outputs": [],
   "source": [
    "experience_agg_by_customer = handle_outliers(experience_agg_by_customer, 'avg_rtt_ms', method=\"mean\")\n",
    "\n",
    "experience_agg_by_customer = handle_outliers(experience_agg_by_customer, 'avg_throughput_kbps', method=\"mean\")\n",
    "\n",
    "experience_agg_by_customer = handle_outliers(experience_agg_by_customer, 'tcp_retrans_bytes', method=\"mean\")\n"
   ]
  },
  {
   "cell_type": "code",
   "execution_count": 16,
   "id": "cd8b7197",
   "metadata": {},
   "outputs": [
    {
     "data": {
      "text/html": [
       "<div>\n",
       "<style scoped>\n",
       "    .dataframe tbody tr th:only-of-type {\n",
       "        vertical-align: middle;\n",
       "    }\n",
       "\n",
       "    .dataframe tbody tr th {\n",
       "        vertical-align: top;\n",
       "    }\n",
       "\n",
       "    .dataframe thead th {\n",
       "        text-align: right;\n",
       "    }\n",
       "</style>\n",
       "<table border=\"1\" class=\"dataframe\">\n",
       "  <thead>\n",
       "    <tr style=\"text-align: right;\">\n",
       "      <th></th>\n",
       "      <th>avg_rtt_ms</th>\n",
       "      <th>avg_throughput_kbps</th>\n",
       "      <th>tcp_retrans_bytes</th>\n",
       "      <th>handset_type</th>\n",
       "    </tr>\n",
       "    <tr>\n",
       "      <th>msisdn</th>\n",
       "      <th></th>\n",
       "      <th></th>\n",
       "      <th></th>\n",
       "      <th></th>\n",
       "    </tr>\n",
       "  </thead>\n",
       "  <tbody>\n",
       "    <tr>\n",
       "      <th>-2147483648</th>\n",
       "      <td>1.815476e+07</td>\n",
       "      <td>2.233866e+09</td>\n",
       "      <td>2.185963e+12</td>\n",
       "      <td>Huawei B528S-23A</td>\n",
       "    </tr>\n",
       "  </tbody>\n",
       "</table>\n",
       "</div>"
      ],
      "text/plain": [
       "               avg_rtt_ms  avg_throughput_kbps  tcp_retrans_bytes  \\\n",
       "msisdn                                                              \n",
       "-2147483648  1.815476e+07         2.233866e+09       2.185963e+12   \n",
       "\n",
       "                 handset_type  \n",
       "msisdn                         \n",
       "-2147483648  Huawei B528S-23A  "
      ]
     },
     "execution_count": 16,
     "metadata": {},
     "output_type": "execute_result"
    }
   ],
   "source": [
    "experience_agg_by_customer.head(10)"
   ]
  },
  {
   "cell_type": "code",
   "execution_count": 17,
   "id": "7411f256",
   "metadata": {},
   "outputs": [],
   "source": [
    "tcp_trans = experience_metrics_df.sort_values(by=['tcp_retrans_bytes'], ascending=False)\n",
    "\n",
    "top_10_tcp = tcp_trans.head(10)\n",
    "bot_10_tcp = tcp_trans.tail(10)\n",
    "most_tcp_frq = tcp_trans['tcp_retrans_bytes'].value_counts().head(10)"
   ]
  },
  {
   "cell_type": "code",
   "execution_count": 18,
   "id": "1a34ff76",
   "metadata": {},
   "outputs": [
    {
     "data": {
      "text/html": [
       "<div>\n",
       "<style scoped>\n",
       "    .dataframe tbody tr th:only-of-type {\n",
       "        vertical-align: middle;\n",
       "    }\n",
       "\n",
       "    .dataframe tbody tr th {\n",
       "        vertical-align: top;\n",
       "    }\n",
       "\n",
       "    .dataframe thead th {\n",
       "        text-align: right;\n",
       "    }\n",
       "</style>\n",
       "<table border=\"1\" class=\"dataframe\">\n",
       "  <thead>\n",
       "    <tr style=\"text-align: right;\">\n",
       "      <th></th>\n",
       "      <th>tcp_retrans_bytes</th>\n",
       "    </tr>\n",
       "  </thead>\n",
       "  <tbody>\n",
       "    <tr>\n",
       "      <th>34986</th>\n",
       "      <td>2.913408e+09</td>\n",
       "    </tr>\n",
       "    <tr>\n",
       "      <th>74941</th>\n",
       "      <td>2.639770e+09</td>\n",
       "    </tr>\n",
       "    <tr>\n",
       "      <th>65724</th>\n",
       "      <td>2.464814e+09</td>\n",
       "    </tr>\n",
       "    <tr>\n",
       "      <th>1465</th>\n",
       "      <td>2.260712e+09</td>\n",
       "    </tr>\n",
       "    <tr>\n",
       "      <th>130390</th>\n",
       "      <td>1.772436e+09</td>\n",
       "    </tr>\n",
       "    <tr>\n",
       "      <th>33938</th>\n",
       "      <td>1.748862e+09</td>\n",
       "    </tr>\n",
       "    <tr>\n",
       "      <th>139207</th>\n",
       "      <td>1.239951e+09</td>\n",
       "    </tr>\n",
       "    <tr>\n",
       "      <th>139416</th>\n",
       "      <td>7.949480e+08</td>\n",
       "    </tr>\n",
       "    <tr>\n",
       "      <th>64506</th>\n",
       "      <td>7.406242e+08</td>\n",
       "    </tr>\n",
       "    <tr>\n",
       "      <th>1346</th>\n",
       "      <td>5.293231e+08</td>\n",
       "    </tr>\n",
       "  </tbody>\n",
       "</table>\n",
       "</div>"
      ],
      "text/plain": [
       "        tcp_retrans_bytes\n",
       "34986        2.913408e+09\n",
       "74941        2.639770e+09\n",
       "65724        2.464814e+09\n",
       "1465         2.260712e+09\n",
       "130390       1.772436e+09\n",
       "33938        1.748862e+09\n",
       "139207       1.239951e+09\n",
       "139416       7.949480e+08\n",
       "64506        7.406242e+08\n",
       "1346         5.293231e+08"
      ]
     },
     "execution_count": 18,
     "metadata": {},
     "output_type": "execute_result"
    }
   ],
   "source": [
    "top_10_tcp[['tcp_retrans_bytes']]"
   ]
  },
  {
   "cell_type": "code",
   "execution_count": 19,
   "id": "c6662f9b",
   "metadata": {},
   "outputs": [
    {
     "data": {
      "text/html": [
       "<div>\n",
       "<style scoped>\n",
       "    .dataframe tbody tr th:only-of-type {\n",
       "        vertical-align: middle;\n",
       "    }\n",
       "\n",
       "    .dataframe tbody tr th {\n",
       "        vertical-align: top;\n",
       "    }\n",
       "\n",
       "    .dataframe thead th {\n",
       "        text-align: right;\n",
       "    }\n",
       "</style>\n",
       "<table border=\"1\" class=\"dataframe\">\n",
       "  <thead>\n",
       "    <tr style=\"text-align: right;\">\n",
       "      <th></th>\n",
       "      <th>tcp_retrans_bytes</th>\n",
       "    </tr>\n",
       "  </thead>\n",
       "  <tbody>\n",
       "    <tr>\n",
       "      <th>12477</th>\n",
       "      <td>143.0</td>\n",
       "    </tr>\n",
       "    <tr>\n",
       "      <th>81400</th>\n",
       "      <td>134.0</td>\n",
       "    </tr>\n",
       "    <tr>\n",
       "      <th>93685</th>\n",
       "      <td>134.0</td>\n",
       "    </tr>\n",
       "    <tr>\n",
       "      <th>97528</th>\n",
       "      <td>129.0</td>\n",
       "    </tr>\n",
       "    <tr>\n",
       "      <th>8580</th>\n",
       "      <td>128.0</td>\n",
       "    </tr>\n",
       "    <tr>\n",
       "      <th>94746</th>\n",
       "      <td>113.0</td>\n",
       "    </tr>\n",
       "    <tr>\n",
       "      <th>12759</th>\n",
       "      <td>108.0</td>\n",
       "    </tr>\n",
       "    <tr>\n",
       "      <th>17773</th>\n",
       "      <td>106.0</td>\n",
       "    </tr>\n",
       "    <tr>\n",
       "      <th>108566</th>\n",
       "      <td>97.0</td>\n",
       "    </tr>\n",
       "    <tr>\n",
       "      <th>140565</th>\n",
       "      <td>86.0</td>\n",
       "    </tr>\n",
       "  </tbody>\n",
       "</table>\n",
       "</div>"
      ],
      "text/plain": [
       "        tcp_retrans_bytes\n",
       "12477               143.0\n",
       "81400               134.0\n",
       "93685               134.0\n",
       "97528               129.0\n",
       "8580                128.0\n",
       "94746               113.0\n",
       "12759               108.0\n",
       "17773               106.0\n",
       "108566               97.0\n",
       "140565               86.0"
      ]
     },
     "execution_count": 19,
     "metadata": {},
     "output_type": "execute_result"
    }
   ],
   "source": [
    "bot_10_tcp[['tcp_retrans_bytes']]"
   ]
  },
  {
   "cell_type": "code",
   "execution_count": 20,
   "id": "2242dd2a",
   "metadata": {},
   "outputs": [
    {
     "data": {
      "text/plain": [
       "tcp_retrans_bytes\n",
       "2.182528e+07    83625\n",
       "2.105367e+07      649\n",
       "7.742323e+05      245\n",
       "2.105371e+07      241\n",
       "2.105370e+07      137\n",
       "7.729403e+05      136\n",
       "7.729943e+05      126\n",
       "7.755623e+05      114\n",
       "7.742203e+05      104\n",
       "2.105504e+07      100\n",
       "Name: count, dtype: int64"
      ]
     },
     "execution_count": 20,
     "metadata": {},
     "output_type": "execute_result"
    }
   ],
   "source": [
    "most_tcp_frq"
   ]
  },
  {
   "cell_type": "code",
   "execution_count": 21,
   "id": "c20c976b",
   "metadata": {},
   "outputs": [],
   "source": [
    "tcp_rtt = experience_agg_by_customer.sort_values(by=['avg_rtt_ms'], ascending=False)\n",
    "\n",
    "top_10_rtt = tcp_rtt.head(10)\n",
    "bot_10_rtt = tcp_rtt.tail(10)"
   ]
  },
  {
   "cell_type": "code",
   "execution_count": 22,
   "id": "da8c6bce",
   "metadata": {},
   "outputs": [],
   "source": [
    "tcp_rtt = experience_agg_by_customer.sort_values(by=['avg_rtt_ms'], ascending=False)\n",
    "\n",
    "top_10_rtt = tcp_rtt.head(10)\n",
    "bot_10_rtt = tcp_rtt.tail(10)"
   ]
  },
  {
   "cell_type": "code",
   "execution_count": 23,
   "id": "8ef876bc",
   "metadata": {},
   "outputs": [
    {
     "data": {
      "text/html": [
       "<div>\n",
       "<style scoped>\n",
       "    .dataframe tbody tr th:only-of-type {\n",
       "        vertical-align: middle;\n",
       "    }\n",
       "\n",
       "    .dataframe tbody tr th {\n",
       "        vertical-align: top;\n",
       "    }\n",
       "\n",
       "    .dataframe thead th {\n",
       "        text-align: right;\n",
       "    }\n",
       "</style>\n",
       "<table border=\"1\" class=\"dataframe\">\n",
       "  <thead>\n",
       "    <tr style=\"text-align: right;\">\n",
       "      <th></th>\n",
       "      <th>avg_rtt_ms</th>\n",
       "    </tr>\n",
       "    <tr>\n",
       "      <th>msisdn</th>\n",
       "      <th></th>\n",
       "    </tr>\n",
       "  </thead>\n",
       "  <tbody>\n",
       "    <tr>\n",
       "      <th>-2147483648</th>\n",
       "      <td>1.815476e+07</td>\n",
       "    </tr>\n",
       "  </tbody>\n",
       "</table>\n",
       "</div>"
      ],
      "text/plain": [
       "               avg_rtt_ms\n",
       "msisdn                   \n",
       "-2147483648  1.815476e+07"
      ]
     },
     "execution_count": 23,
     "metadata": {},
     "output_type": "execute_result"
    }
   ],
   "source": [
    "bot_10_rtt[['avg_rtt_ms']]"
   ]
  },
  {
   "cell_type": "code",
   "execution_count": 24,
   "id": "647e5f11",
   "metadata": {},
   "outputs": [],
   "source": [
    "tcp_rtt = experience_agg_by_customer.sort_values(by=['avg_rtt_ms'], ascending=False)\n",
    "\n",
    "top_10_rtt = tcp_rtt.head(10)\n",
    "bot_10_rtt = tcp_rtt.tail(10)\n",
    "most_rtt_frq = tcp_rtt['avg_rtt_ms'].value_counts().head(10)"
   ]
  },
  {
   "cell_type": "code",
   "execution_count": 25,
   "id": "896cfb4d",
   "metadata": {},
   "outputs": [
    {
     "data": {
      "text/html": [
       "<div>\n",
       "<style scoped>\n",
       "    .dataframe tbody tr th:only-of-type {\n",
       "        vertical-align: middle;\n",
       "    }\n",
       "\n",
       "    .dataframe tbody tr th {\n",
       "        vertical-align: top;\n",
       "    }\n",
       "\n",
       "    .dataframe thead th {\n",
       "        text-align: right;\n",
       "    }\n",
       "</style>\n",
       "<table border=\"1\" class=\"dataframe\">\n",
       "  <thead>\n",
       "    <tr style=\"text-align: right;\">\n",
       "      <th></th>\n",
       "      <th>avg_rtt_ms</th>\n",
       "    </tr>\n",
       "    <tr>\n",
       "      <th>msisdn</th>\n",
       "      <th></th>\n",
       "    </tr>\n",
       "  </thead>\n",
       "  <tbody>\n",
       "    <tr>\n",
       "      <th>-2147483648</th>\n",
       "      <td>1.815476e+07</td>\n",
       "    </tr>\n",
       "  </tbody>\n",
       "</table>\n",
       "</div>"
      ],
      "text/plain": [
       "               avg_rtt_ms\n",
       "msisdn                   \n",
       "-2147483648  1.815476e+07"
      ]
     },
     "execution_count": 25,
     "metadata": {},
     "output_type": "execute_result"
    }
   ],
   "source": [
    "top_10_rtt[['avg_rtt_ms']]"
   ]
  },
  {
   "cell_type": "code",
   "execution_count": 26,
   "id": "92199e6c",
   "metadata": {},
   "outputs": [
    {
     "data": {
      "text/html": [
       "<div>\n",
       "<style scoped>\n",
       "    .dataframe tbody tr th:only-of-type {\n",
       "        vertical-align: middle;\n",
       "    }\n",
       "\n",
       "    .dataframe tbody tr th {\n",
       "        vertical-align: top;\n",
       "    }\n",
       "\n",
       "    .dataframe thead th {\n",
       "        text-align: right;\n",
       "    }\n",
       "</style>\n",
       "<table border=\"1\" class=\"dataframe\">\n",
       "  <thead>\n",
       "    <tr style=\"text-align: right;\">\n",
       "      <th></th>\n",
       "      <th>avg_rtt_ms</th>\n",
       "    </tr>\n",
       "    <tr>\n",
       "      <th>msisdn</th>\n",
       "      <th></th>\n",
       "    </tr>\n",
       "  </thead>\n",
       "  <tbody>\n",
       "    <tr>\n",
       "      <th>-2147483648</th>\n",
       "      <td>1.815476e+07</td>\n",
       "    </tr>\n",
       "  </tbody>\n",
       "</table>\n",
       "</div>"
      ],
      "text/plain": [
       "               avg_rtt_ms\n",
       "msisdn                   \n",
       "-2147483648  1.815476e+07"
      ]
     },
     "execution_count": 26,
     "metadata": {},
     "output_type": "execute_result"
    }
   ],
   "source": [
    "bot_10_rtt[['avg_rtt_ms']]"
   ]
  },
  {
   "cell_type": "code",
   "execution_count": 27,
   "id": "cd477861",
   "metadata": {},
   "outputs": [
    {
     "data": {
      "text/plain": [
       "avg_rtt_ms\n",
       "1.815476e+07    1\n",
       "Name: count, dtype: int64"
      ]
     },
     "execution_count": 27,
     "metadata": {},
     "output_type": "execute_result"
    }
   ],
   "source": [
    "most_rtt_frq"
   ]
  },
  {
   "cell_type": "code",
   "execution_count": 28,
   "id": "98c635d9",
   "metadata": {},
   "outputs": [],
   "source": [
    "tcp_throuput = experience_agg_by_customer.sort_values(by=['avg_throughput_kbps'], ascending=False)\n",
    "\n",
    "top_10_throuput = tcp_throuput.head(10)\n",
    "bot_10_throuput = tcp_throuput.tail(10)\n",
    "frq_throuput = tcp_throuput['avg_throughput_kbps'].value_counts().head(10)"
   ]
  },
  {
   "cell_type": "code",
   "execution_count": 29,
   "id": "1ba09799",
   "metadata": {},
   "outputs": [
    {
     "data": {
      "text/html": [
       "<div>\n",
       "<style scoped>\n",
       "    .dataframe tbody tr th:only-of-type {\n",
       "        vertical-align: middle;\n",
       "    }\n",
       "\n",
       "    .dataframe tbody tr th {\n",
       "        vertical-align: top;\n",
       "    }\n",
       "\n",
       "    .dataframe thead th {\n",
       "        text-align: right;\n",
       "    }\n",
       "</style>\n",
       "<table border=\"1\" class=\"dataframe\">\n",
       "  <thead>\n",
       "    <tr style=\"text-align: right;\">\n",
       "      <th></th>\n",
       "      <th>avg_throughput_kbps</th>\n",
       "    </tr>\n",
       "    <tr>\n",
       "      <th>msisdn</th>\n",
       "      <th></th>\n",
       "    </tr>\n",
       "  </thead>\n",
       "  <tbody>\n",
       "    <tr>\n",
       "      <th>-2147483648</th>\n",
       "      <td>2.233866e+09</td>\n",
       "    </tr>\n",
       "  </tbody>\n",
       "</table>\n",
       "</div>"
      ],
      "text/plain": [
       "             avg_throughput_kbps\n",
       "msisdn                          \n",
       "-2147483648         2.233866e+09"
      ]
     },
     "execution_count": 29,
     "metadata": {},
     "output_type": "execute_result"
    }
   ],
   "source": [
    "top_10_throuput[['avg_throughput_kbps']]"
   ]
  },
  {
   "cell_type": "code",
   "execution_count": 30,
   "id": "c1c791ed",
   "metadata": {},
   "outputs": [
    {
     "data": {
      "text/html": [
       "<div>\n",
       "<style scoped>\n",
       "    .dataframe tbody tr th:only-of-type {\n",
       "        vertical-align: middle;\n",
       "    }\n",
       "\n",
       "    .dataframe tbody tr th {\n",
       "        vertical-align: top;\n",
       "    }\n",
       "\n",
       "    .dataframe thead th {\n",
       "        text-align: right;\n",
       "    }\n",
       "</style>\n",
       "<table border=\"1\" class=\"dataframe\">\n",
       "  <thead>\n",
       "    <tr style=\"text-align: right;\">\n",
       "      <th></th>\n",
       "      <th>avg_throughput_kbps</th>\n",
       "    </tr>\n",
       "    <tr>\n",
       "      <th>msisdn</th>\n",
       "      <th></th>\n",
       "    </tr>\n",
       "  </thead>\n",
       "  <tbody>\n",
       "    <tr>\n",
       "      <th>-2147483648</th>\n",
       "      <td>2.233866e+09</td>\n",
       "    </tr>\n",
       "  </tbody>\n",
       "</table>\n",
       "</div>"
      ],
      "text/plain": [
       "             avg_throughput_kbps\n",
       "msisdn                          \n",
       "-2147483648         2.233866e+09"
      ]
     },
     "execution_count": 30,
     "metadata": {},
     "output_type": "execute_result"
    }
   ],
   "source": [
    "bot_10_throuput[['avg_throughput_kbps']]"
   ]
  },
  {
   "cell_type": "code",
   "execution_count": 31,
   "id": "dbb6a9ae",
   "metadata": {},
   "outputs": [
    {
     "data": {
      "text/plain": [
       "avg_throughput_kbps\n",
       "2.233866e+09    1\n",
       "Name: count, dtype: int64"
      ]
     },
     "execution_count": 31,
     "metadata": {},
     "output_type": "execute_result"
    }
   ],
   "source": [
    "frq_throuput"
   ]
  },
  {
   "cell_type": "markdown",
   "id": "5b5db5fa",
   "metadata": {},
   "source": [
    "## Task 3.3\n",
    "The distribution of the average throughput per handset type and provide interpretation for your findings."
   ]
  },
  {
   "cell_type": "code",
   "execution_count": 32,
   "id": "c5d1e13b",
   "metadata": {},
   "outputs": [],
   "source": [
    "handset_agg = experience_metrics_df.groupby('handset_type').agg({'avg_throughput_kbps': 'sum',\n",
    "                                                                       'tcp_retrans_bytes': 'sum'})\n",
    "\n",
    "sorted_handset_agg = handset_agg.sort_values(by=['avg_throughput_kbps'], ascending=False).head(10)\n",
    "\n",
    "handset_tp_df = sorted_handset_agg[['avg_throughput_kbps']]\n",
    "handset_tp_df['handset_type'] = sorted_handset_agg.index\n",
    "\n",
    "# handset_tp_df"
   ]
  },
  {
   "cell_type": "code",
   "execution_count": 33,
   "id": "fb166adc",
   "metadata": {},
   "outputs": [
    {
     "data": {
      "image/png": "[encoded data removed]",
      "text/plain": [
       "<Figure size 1200x700 with 1 Axes>"
      ]
     },
     "metadata": {},
     "output_type": "display_data"
    },
    {
     "data": {
      "image/png": "[encoded data removed]",
      "text/plain": [
       "<Figure size 1200x700 with 1 Axes>"
      ]
     },
     "metadata": {},
     "output_type": "display_data"
    }
   ],
   "source": [
    "plots.plot_box(handset_agg, 'avg_throughput_kbps', 'outlier detection for through output')\n",
    "plots.plot_box(handset_agg, 'tcp_retrans_bytes', 'outlier detection for tcp retransmission')"
   ]
  },
  {
   "cell_type": "code",
   "execution_count": 34,
   "id": "ba599fe9",
   "metadata": {},
   "outputs": [
    {
     "data": {
      "text/plain": [
       "<Figure size 900x700 with 0 Axes>"
      ]
     },
     "metadata": {},
     "output_type": "display_data"
    },
    {
     "data": {
      "image/png": "[encoded data removed]",
      "text/plain": [
       "<Figure size 1400x700 with 1 Axes>"
      ]
     },
     "metadata": {},
     "output_type": "display_data"
    },
    {
     "data": {
      "text/html": [
       "<div>\n",
       "<style scoped>\n",
       "    .dataframe tbody tr th:only-of-type {\n",
       "        vertical-align: middle;\n",
       "    }\n",
       "\n",
       "    .dataframe tbody tr th {\n",
       "        vertical-align: top;\n",
       "    }\n",
       "\n",
       "    .dataframe thead th {\n",
       "        text-align: right;\n",
       "    }\n",
       "</style>\n",
       "<table border=\"1\" class=\"dataframe\">\n",
       "  <thead>\n",
       "    <tr style=\"text-align: right;\">\n",
       "      <th></th>\n",
       "      <th>avg_throughput_kbps</th>\n",
       "      <th>tcp_retrans_bytes</th>\n",
       "    </tr>\n",
       "  </thead>\n",
       "  <tbody>\n",
       "    <tr>\n",
       "      <th>count</th>\n",
       "      <td>1362.000000</td>\n",
       "      <td>1.362000e+03</td>\n",
       "    </tr>\n",
       "    <tr>\n",
       "      <th>mean</th>\n",
       "      <td>79224.963656</td>\n",
       "      <td>1.604965e+09</td>\n",
       "    </tr>\n",
       "    <tr>\n",
       "      <th>std</th>\n",
       "      <td>102278.044997</td>\n",
       "      <td>1.142878e+10</td>\n",
       "    </tr>\n",
       "    <tr>\n",
       "      <th>min</th>\n",
       "      <td>0.000000</td>\n",
       "      <td>3.600000e+02</td>\n",
       "    </tr>\n",
       "    <tr>\n",
       "      <th>25%</th>\n",
       "      <td>3450.750000</td>\n",
       "      <td>1.442044e+06</td>\n",
       "    </tr>\n",
       "    <tr>\n",
       "      <th>50%</th>\n",
       "      <td>26541.500000</td>\n",
       "      <td>2.182528e+07</td>\n",
       "    </tr>\n",
       "    <tr>\n",
       "      <th>75%</th>\n",
       "      <td>114507.500000</td>\n",
       "      <td>6.938803e+07</td>\n",
       "    </tr>\n",
       "    <tr>\n",
       "      <th>max</th>\n",
       "      <td>281092.625000</td>\n",
       "      <td>2.132877e+11</td>\n",
       "    </tr>\n",
       "  </tbody>\n",
       "</table>\n",
       "</div>"
      ],
      "text/plain": [
       "       avg_throughput_kbps  tcp_retrans_bytes\n",
       "count          1362.000000       1.362000e+03\n",
       "mean          79224.963656       1.604965e+09\n",
       "std          102278.044997       1.142878e+10\n",
       "min               0.000000       3.600000e+02\n",
       "25%            3450.750000       1.442044e+06\n",
       "50%           26541.500000       2.182528e+07\n",
       "75%          114507.500000       6.938803e+07\n",
       "max          281092.625000       2.132877e+11"
      ]
     },
     "execution_count": 34,
     "metadata": {},
     "output_type": "execute_result"
    }
   ],
   "source": [
    "cleaned_handset_agg =  handle_outliers(handset_agg, 'avg_throughput_kbps')\n",
    "\n",
    "plots.plot_hist(cleaned_handset_agg, 'avg_throughput_kbps', 'green')\n",
    "cleaned_handset_agg.describe()"
   ]
  },
  {
   "cell_type": "code",
   "execution_count": 48,
   "id": "f023a9ae",
   "metadata": {},
   "outputs": [
    {
     "data": {
      "text/plain": [
       "<Figure size 900x700 with 0 Axes>"
      ]
     },
     "metadata": {},
     "output_type": "display_data"
    },
    {
     "data": {
      "image/png": "[encoded data removed]",
      "text/plain": [
       "<Figure size 1400x700 with 1 Axes>"
      ]
     },
     "metadata": {},
     "output_type": "display_data"
    },
    {
     "data": {
      "text/html": [
       "<div>\n",
       "<style scoped>\n",
       "    .dataframe tbody tr th:only-of-type {\n",
       "        vertical-align: middle;\n",
       "    }\n",
       "\n",
       "    .dataframe tbody tr th {\n",
       "        vertical-align: top;\n",
       "    }\n",
       "\n",
       "    .dataframe thead th {\n",
       "        text-align: right;\n",
       "    }\n",
       "</style>\n",
       "<table border=\"1\" class=\"dataframe\">\n",
       "  <thead>\n",
       "    <tr style=\"text-align: right;\">\n",
       "      <th></th>\n",
       "      <th>avg_throughput_kbps</th>\n",
       "      <th>tcp_retrans_bytes</th>\n",
       "    </tr>\n",
       "  </thead>\n",
       "  <tbody>\n",
       "    <tr>\n",
       "      <th>count</th>\n",
       "      <td>1.362000e+03</td>\n",
       "      <td>1.362000e+03</td>\n",
       "    </tr>\n",
       "    <tr>\n",
       "      <th>mean</th>\n",
       "      <td>1.640137e+06</td>\n",
       "      <td>4.995038e+07</td>\n",
       "    </tr>\n",
       "    <tr>\n",
       "      <th>std</th>\n",
       "      <td>2.360348e+07</td>\n",
       "      <td>6.208771e+07</td>\n",
       "    </tr>\n",
       "    <tr>\n",
       "      <th>min</th>\n",
       "      <td>0.000000e+00</td>\n",
       "      <td>3.600000e+02</td>\n",
       "    </tr>\n",
       "    <tr>\n",
       "      <th>25%</th>\n",
       "      <td>3.450750e+03</td>\n",
       "      <td>1.442044e+06</td>\n",
       "    </tr>\n",
       "    <tr>\n",
       "      <th>50%</th>\n",
       "      <td>2.654150e+04</td>\n",
       "      <td>2.182528e+07</td>\n",
       "    </tr>\n",
       "    <tr>\n",
       "      <th>75%</th>\n",
       "      <td>1.145075e+05</td>\n",
       "      <td>6.938803e+07</td>\n",
       "    </tr>\n",
       "    <tr>\n",
       "      <th>max</th>\n",
       "      <td>8.425110e+08</td>\n",
       "      <td>1.713070e+08</td>\n",
       "    </tr>\n",
       "  </tbody>\n",
       "</table>\n",
       "</div>"
      ],
      "text/plain": [
       "       avg_throughput_kbps  tcp_retrans_bytes\n",
       "count         1.362000e+03       1.362000e+03\n",
       "mean          1.640137e+06       4.995038e+07\n",
       "std           2.360348e+07       6.208771e+07\n",
       "min           0.000000e+00       3.600000e+02\n",
       "25%           3.450750e+03       1.442044e+06\n",
       "50%           2.654150e+04       2.182528e+07\n",
       "75%           1.145075e+05       6.938803e+07\n",
       "max           8.425110e+08       1.713070e+08"
      ]
     },
     "execution_count": 48,
     "metadata": {},
     "output_type": "execute_result"
    }
   ],
   "source": [
    "cleaned_handset_agg =  handle_outliers(handset_agg, 'tcp_retrans_bytes')\n",
    "plots.plot_hist(cleaned_handset_agg, 'tcp_retrans_bytes', 'orange')\n",
    "cleaned_handset_agg.describe()"
   ]
  },
  {
   "cell_type": "markdown",
   "id": "ed065bc8",
   "metadata": {},
   "source": [
    "Both Through out put and tcp retransmission seems to be directly related. since they have the same type of distrbution\n",
    "\n",
    "### Task 3.4\n",
    "Using the experience metrics above, perform a k-means clustering (where k = 3) to segment users into groups of experiences"
   ]
  },
  {
   "cell_type": "code",
   "execution_count": 44,
   "id": "b6d232b6",
   "metadata": {},
   "outputs": [],
   "source": [
    "from sklearn.preprocessing import Normalizer, MinMaxScaler\n",
    "from sklearn.cluster import KMeans\n",
    "\n",
    "\n",
    "def normalizer(df, columns):\n",
    "    norm = Normalizer()\n",
    "    return pd.DataFrame(norm.fit_transform(df), columns=columns)\n",
    "\n",
    "def scaler(df, columns):\n",
    "    minmax_scaler = MinMaxScaler()\n",
    "    return pd.DataFrame(minmax_scaler.fit_transform(df), columns=columns)\n",
    "\n",
    "def scale_and_normalize(df,columns ):\n",
    "    return normalizer(scaler(df, columns), columns)"
   ]
  },
  {
   "cell_type": "code",
   "execution_count": 45,
   "id": "d25019a8",
   "metadata": {},
   "outputs": [],
   "source": [
    "def cluster_label(x: int, cols: list = []) -> str:\n",
    "    if (not type(x) == int):\n",
    "        return x\n",
    "    if (x < len(cols)):\n",
    "        return cols[x]\n",
    "\n",
    "    return str(x)"
   ]
  },
  {
   "cell_type": "code",
   "execution_count": 46,
   "id": "b7ffcbc3",
   "metadata": {},
   "outputs": [
    {
     "data": {
      "text/html": [
       "<div>\n",
       "<style scoped>\n",
       "    .dataframe tbody tr th:only-of-type {\n",
       "        vertical-align: middle;\n",
       "    }\n",
       "\n",
       "    .dataframe tbody tr th {\n",
       "        vertical-align: top;\n",
       "    }\n",
       "\n",
       "    .dataframe thead th {\n",
       "        text-align: right;\n",
       "    }\n",
       "</style>\n",
       "<table border=\"1\" class=\"dataframe\">\n",
       "  <thead>\n",
       "    <tr style=\"text-align: right;\">\n",
       "      <th></th>\n",
       "      <th>avg_rtt_ms</th>\n",
       "      <th>avg_throughput_kbps</th>\n",
       "      <th>tcp_retrans_bytes</th>\n",
       "    </tr>\n",
       "  </thead>\n",
       "  <tbody>\n",
       "    <tr>\n",
       "      <th>count</th>\n",
       "      <td>1.0</td>\n",
       "      <td>1.0</td>\n",
       "      <td>1.0</td>\n",
       "    </tr>\n",
       "    <tr>\n",
       "      <th>mean</th>\n",
       "      <td>0.0</td>\n",
       "      <td>0.0</td>\n",
       "      <td>0.0</td>\n",
       "    </tr>\n",
       "    <tr>\n",
       "      <th>std</th>\n",
       "      <td>NaN</td>\n",
       "      <td>NaN</td>\n",
       "      <td>NaN</td>\n",
       "    </tr>\n",
       "    <tr>\n",
       "      <th>min</th>\n",
       "      <td>0.0</td>\n",
       "      <td>0.0</td>\n",
       "      <td>0.0</td>\n",
       "    </tr>\n",
       "    <tr>\n",
       "      <th>25%</th>\n",
       "      <td>0.0</td>\n",
       "      <td>0.0</td>\n",
       "      <td>0.0</td>\n",
       "    </tr>\n",
       "    <tr>\n",
       "      <th>50%</th>\n",
       "      <td>0.0</td>\n",
       "      <td>0.0</td>\n",
       "      <td>0.0</td>\n",
       "    </tr>\n",
       "    <tr>\n",
       "      <th>75%</th>\n",
       "      <td>0.0</td>\n",
       "      <td>0.0</td>\n",
       "      <td>0.0</td>\n",
       "    </tr>\n",
       "    <tr>\n",
       "      <th>max</th>\n",
       "      <td>0.0</td>\n",
       "      <td>0.0</td>\n",
       "      <td>0.0</td>\n",
       "    </tr>\n",
       "  </tbody>\n",
       "</table>\n",
       "</div>"
      ],
      "text/plain": [
       "       avg_rtt_ms  avg_throughput_kbps  tcp_retrans_bytes\n",
       "count         1.0                  1.0                1.0\n",
       "mean          0.0                  0.0                0.0\n",
       "std           NaN                  NaN                NaN\n",
       "min           0.0                  0.0                0.0\n",
       "25%           0.0                  0.0                0.0\n",
       "50%           0.0                  0.0                0.0\n",
       "75%           0.0                  0.0                0.0\n",
       "max           0.0                  0.0                0.0"
      ]
     },
     "execution_count": 46,
     "metadata": {},
     "output_type": "execute_result"
    }
   ],
   "source": [
    "# Normalization\n",
    "metrics = experience_agg_by_customer[['avg_rtt_ms', 'avg_throughput_kbps', 'tcp_retrans_bytes']]\n",
    "\n",
    "# handling outliers\n",
    "metrics_cleaned = metrics.copy()\n",
    "metrics_cleaned = handle_outliers(metrics_cleaned, 'avg_rtt_ms', 'mean')\n",
    "metrics_cleaned = handle_outliers(metrics_cleaned, 'avg_throughput_kbps', 'mean')\n",
    "metrics_cleaned = handle_outliers(metrics_cleaned, 'tcp_retrans_bytes', 'mean')\n",
    "\n",
    "normalized_metrics = scaler(metrics_cleaned, ['avg_rtt_ms', 'avg_throughput_kbps', 'tcp_retrans_bytes'])\n",
    "normalized_metrics.describe()"
   ]
  },
  {
   "cell_type": "code",
   "execution_count": 43,
   "id": "07cd9cbe",
   "metadata": {},
   "outputs": [
    {
     "data": {
      "text/html": [
       "<div>\n",
       "<style scoped>\n",
       "    .dataframe tbody tr th:only-of-type {\n",
       "        vertical-align: middle;\n",
       "    }\n",
       "\n",
       "    .dataframe tbody tr th {\n",
       "        vertical-align: top;\n",
       "    }\n",
       "\n",
       "    .dataframe thead th {\n",
       "        text-align: right;\n",
       "    }\n",
       "</style>\n",
       "<table border=\"1\" class=\"dataframe\">\n",
       "  <thead>\n",
       "    <tr style=\"text-align: right;\">\n",
       "      <th></th>\n",
       "      <th>avg_rtt_ms</th>\n",
       "      <th>avg_throughput_kbps</th>\n",
       "      <th>tcp_retrans_bytes</th>\n",
       "    </tr>\n",
       "    <tr>\n",
       "      <th>msisdn</th>\n",
       "      <th></th>\n",
       "      <th></th>\n",
       "      <th></th>\n",
       "    </tr>\n",
       "  </thead>\n",
       "  <tbody>\n",
       "    <tr>\n",
       "      <th>-2147483648</th>\n",
       "      <td>1.815476e+07</td>\n",
       "      <td>2.233866e+09</td>\n",
       "      <td>2.185963e+12</td>\n",
       "    </tr>\n",
       "  </tbody>\n",
       "</table>\n",
       "</div>"
      ],
      "text/plain": [
       "               avg_rtt_ms  avg_throughput_kbps  tcp_retrans_bytes\n",
       "msisdn                                                           \n",
       "-2147483648  1.815476e+07         2.233866e+09       2.185963e+12"
      ]
     },
     "execution_count": 43,
     "metadata": {},
     "output_type": "execute_result"
    }
   ],
   "source": [
    "metrics.head()"
   ]
  },
  {
   "cell_type": "code",
   "execution_count": 42,
   "id": "a3e06ecc",
   "metadata": {},
   "outputs": [
    {
     "data": {
      "text/html": [
       "<div>\n",
       "<style scoped>\n",
       "    .dataframe tbody tr th:only-of-type {\n",
       "        vertical-align: middle;\n",
       "    }\n",
       "\n",
       "    .dataframe tbody tr th {\n",
       "        vertical-align: top;\n",
       "    }\n",
       "\n",
       "    .dataframe thead th {\n",
       "        text-align: right;\n",
       "    }\n",
       "</style>\n",
       "<table border=\"1\" class=\"dataframe\">\n",
       "  <thead>\n",
       "    <tr style=\"text-align: right;\">\n",
       "      <th></th>\n",
       "      <th>avg_rtt_ms</th>\n",
       "      <th>avg_throughput_kbps</th>\n",
       "      <th>tcp_retrans_bytes</th>\n",
       "    </tr>\n",
       "  </thead>\n",
       "  <tbody>\n",
       "    <tr>\n",
       "      <th>0</th>\n",
       "      <td>0.0</td>\n",
       "      <td>0.0</td>\n",
       "      <td>0.0</td>\n",
       "    </tr>\n",
       "  </tbody>\n",
       "</table>\n",
       "</div>"
      ],
      "text/plain": [
       "   avg_rtt_ms  avg_throughput_kbps  tcp_retrans_bytes\n",
       "0         0.0                  0.0                0.0"
      ]
     },
     "execution_count": 42,
     "metadata": {},
     "output_type": "execute_result"
    }
   ],
   "source": [
    "normalized_metrics.head()"
   ]
  },
  {
   "cell_type": "code",
   "execution_count": 40,
   "id": "7903cdb1",
   "metadata": {},
   "outputs": [
    {
     "name": "stdout",
     "output_type": "stream",
     "text": [
      "Shape of normalized_metrics: (1, 3)\n",
      "Number of samples in normalized_metrics: 1\n"
     ]
    }
   ],
   "source": [
    "# Before check the data\n",
    "print(f\"Shape of normalized_metrics: {normalized_metrics.shape}\")\n",
    "print(f\"Number of samples in normalized_metrics: {len(normalized_metrics)}\")"
   ]
  },
  {
   "cell_type": "code",
   "execution_count": 41,
   "id": "7a10aafa",
   "metadata": {},
   "outputs": [
    {
     "ename": "ValueError",
     "evalue": "n_samples=1 should be >= n_clusters=3.",
     "output_type": "error",
     "traceback": [
      "\u001b[1;31m---------------------------------------------------------------------------\u001b[0m",
      "\u001b[1;31mValueError\u001b[0m                                Traceback (most recent call last)",
      "Cell \u001b[1;32mIn[41], line 1\u001b[0m\n\u001b[1;32m----> 1\u001b[0m kmeans \u001b[38;5;241m=\u001b[39m \u001b[43mKMeans\u001b[49m\u001b[43m(\u001b[49m\u001b[43mn_clusters\u001b[49m\u001b[38;5;241;43m=\u001b[39;49m\u001b[38;5;241;43m3\u001b[39;49m\u001b[43m,\u001b[49m\u001b[43m \u001b[49m\u001b[43minit\u001b[49m\u001b[38;5;241;43m=\u001b[39;49m\u001b[38;5;124;43m'\u001b[39;49m\u001b[38;5;124;43mk-means++\u001b[39;49m\u001b[38;5;124;43m'\u001b[39;49m\u001b[43m)\u001b[49m\u001b[38;5;241;43m.\u001b[39;49m\u001b[43mfit\u001b[49m\u001b[43m(\u001b[49m\u001b[43mnormalized_metrics\u001b[49m\u001b[43m)\u001b[49m\n",
      "File \u001b[1;32mc:\\ProgramData\\anaconda3\\Lib\\site-packages\\sklearn\\base.py:1473\u001b[0m, in \u001b[0;36m_fit_context.<locals>.decorator.<locals>.wrapper\u001b[1;34m(estimator, *args, **kwargs)\u001b[0m\n\u001b[0;32m   1466\u001b[0m     estimator\u001b[38;5;241m.\u001b[39m_validate_params()\n\u001b[0;32m   1468\u001b[0m \u001b[38;5;28;01mwith\u001b[39;00m config_context(\n\u001b[0;32m   1469\u001b[0m     skip_parameter_validation\u001b[38;5;241m=\u001b[39m(\n\u001b[0;32m   1470\u001b[0m         prefer_skip_nested_validation \u001b[38;5;129;01mor\u001b[39;00m global_skip_validation\n\u001b[0;32m   1471\u001b[0m     )\n\u001b[0;32m   1472\u001b[0m ):\n\u001b[1;32m-> 1473\u001b[0m     \u001b[38;5;28;01mreturn\u001b[39;00m \u001b[43mfit_method\u001b[49m\u001b[43m(\u001b[49m\u001b[43mestimator\u001b[49m\u001b[43m,\u001b[49m\u001b[43m \u001b[49m\u001b[38;5;241;43m*\u001b[39;49m\u001b[43margs\u001b[49m\u001b[43m,\u001b[49m\u001b[43m \u001b[49m\u001b[38;5;241;43m*\u001b[39;49m\u001b[38;5;241;43m*\u001b[39;49m\u001b[43mkwargs\u001b[49m\u001b[43m)\u001b[49m\n",
      "File \u001b[1;32mc:\\ProgramData\\anaconda3\\Lib\\site-packages\\sklearn\\cluster\\_kmeans.py:1473\u001b[0m, in \u001b[0;36mKMeans.fit\u001b[1;34m(self, X, y, sample_weight)\u001b[0m\n\u001b[0;32m   1438\u001b[0m \u001b[38;5;250m\u001b[39m\u001b[38;5;124;03m\"\"\"Compute k-means clustering.\u001b[39;00m\n\u001b[0;32m   1439\u001b[0m \n\u001b[0;32m   1440\u001b[0m \u001b[38;5;124;03mParameters\u001b[39;00m\n\u001b[1;32m   (...)\u001b[0m\n\u001b[0;32m   1462\u001b[0m \u001b[38;5;124;03m    Fitted estimator.\u001b[39;00m\n\u001b[0;32m   1463\u001b[0m \u001b[38;5;124;03m\"\"\"\u001b[39;00m\n\u001b[0;32m   1464\u001b[0m X \u001b[38;5;241m=\u001b[39m \u001b[38;5;28mself\u001b[39m\u001b[38;5;241m.\u001b[39m_validate_data(\n\u001b[0;32m   1465\u001b[0m     X,\n\u001b[0;32m   1466\u001b[0m     accept_sparse\u001b[38;5;241m=\u001b[39m\u001b[38;5;124m\"\u001b[39m\u001b[38;5;124mcsr\u001b[39m\u001b[38;5;124m\"\u001b[39m,\n\u001b[1;32m   (...)\u001b[0m\n\u001b[0;32m   1470\u001b[0m     accept_large_sparse\u001b[38;5;241m=\u001b[39m\u001b[38;5;28;01mFalse\u001b[39;00m,\n\u001b[0;32m   1471\u001b[0m )\n\u001b[1;32m-> 1473\u001b[0m \u001b[38;5;28;43mself\u001b[39;49m\u001b[38;5;241;43m.\u001b[39;49m\u001b[43m_check_params_vs_input\u001b[49m\u001b[43m(\u001b[49m\u001b[43mX\u001b[49m\u001b[43m)\u001b[49m\n\u001b[0;32m   1475\u001b[0m random_state \u001b[38;5;241m=\u001b[39m check_random_state(\u001b[38;5;28mself\u001b[39m\u001b[38;5;241m.\u001b[39mrandom_state)\n\u001b[0;32m   1476\u001b[0m sample_weight \u001b[38;5;241m=\u001b[39m _check_sample_weight(sample_weight, X, dtype\u001b[38;5;241m=\u001b[39mX\u001b[38;5;241m.\u001b[39mdtype)\n",
      "File \u001b[1;32mc:\\ProgramData\\anaconda3\\Lib\\site-packages\\sklearn\\cluster\\_kmeans.py:1414\u001b[0m, in \u001b[0;36mKMeans._check_params_vs_input\u001b[1;34m(self, X)\u001b[0m\n\u001b[0;32m   1413\u001b[0m \u001b[38;5;28;01mdef\u001b[39;00m \u001b[38;5;21m_check_params_vs_input\u001b[39m(\u001b[38;5;28mself\u001b[39m, X):\n\u001b[1;32m-> 1414\u001b[0m     \u001b[38;5;28;43msuper\u001b[39;49m\u001b[43m(\u001b[49m\u001b[43m)\u001b[49m\u001b[38;5;241;43m.\u001b[39;49m\u001b[43m_check_params_vs_input\u001b[49m\u001b[43m(\u001b[49m\u001b[43mX\u001b[49m\u001b[43m,\u001b[49m\u001b[43m \u001b[49m\u001b[43mdefault_n_init\u001b[49m\u001b[38;5;241;43m=\u001b[39;49m\u001b[38;5;241;43m10\u001b[39;49m\u001b[43m)\u001b[49m\n\u001b[0;32m   1416\u001b[0m     \u001b[38;5;28mself\u001b[39m\u001b[38;5;241m.\u001b[39m_algorithm \u001b[38;5;241m=\u001b[39m \u001b[38;5;28mself\u001b[39m\u001b[38;5;241m.\u001b[39malgorithm\n\u001b[0;32m   1417\u001b[0m     \u001b[38;5;28;01mif\u001b[39;00m \u001b[38;5;28mself\u001b[39m\u001b[38;5;241m.\u001b[39m_algorithm \u001b[38;5;241m==\u001b[39m \u001b[38;5;124m\"\u001b[39m\u001b[38;5;124melkan\u001b[39m\u001b[38;5;124m\"\u001b[39m \u001b[38;5;129;01mand\u001b[39;00m \u001b[38;5;28mself\u001b[39m\u001b[38;5;241m.\u001b[39mn_clusters \u001b[38;5;241m==\u001b[39m \u001b[38;5;241m1\u001b[39m:\n",
      "File \u001b[1;32mc:\\ProgramData\\anaconda3\\Lib\\site-packages\\sklearn\\cluster\\_kmeans.py:878\u001b[0m, in \u001b[0;36m_BaseKMeans._check_params_vs_input\u001b[1;34m(self, X, default_n_init)\u001b[0m\n\u001b[0;32m    875\u001b[0m \u001b[38;5;28;01mdef\u001b[39;00m \u001b[38;5;21m_check_params_vs_input\u001b[39m(\u001b[38;5;28mself\u001b[39m, X, default_n_init\u001b[38;5;241m=\u001b[39m\u001b[38;5;28;01mNone\u001b[39;00m):\n\u001b[0;32m    876\u001b[0m     \u001b[38;5;66;03m# n_clusters\u001b[39;00m\n\u001b[0;32m    877\u001b[0m     \u001b[38;5;28;01mif\u001b[39;00m X\u001b[38;5;241m.\u001b[39mshape[\u001b[38;5;241m0\u001b[39m] \u001b[38;5;241m<\u001b[39m \u001b[38;5;28mself\u001b[39m\u001b[38;5;241m.\u001b[39mn_clusters:\n\u001b[1;32m--> 878\u001b[0m         \u001b[38;5;28;01mraise\u001b[39;00m \u001b[38;5;167;01mValueError\u001b[39;00m(\n\u001b[0;32m    879\u001b[0m             \u001b[38;5;124mf\u001b[39m\u001b[38;5;124m\"\u001b[39m\u001b[38;5;124mn_samples=\u001b[39m\u001b[38;5;132;01m{\u001b[39;00mX\u001b[38;5;241m.\u001b[39mshape[\u001b[38;5;241m0\u001b[39m]\u001b[38;5;132;01m}\u001b[39;00m\u001b[38;5;124m should be >= n_clusters=\u001b[39m\u001b[38;5;132;01m{\u001b[39;00m\u001b[38;5;28mself\u001b[39m\u001b[38;5;241m.\u001b[39mn_clusters\u001b[38;5;132;01m}\u001b[39;00m\u001b[38;5;124m.\u001b[39m\u001b[38;5;124m\"\u001b[39m\n\u001b[0;32m    880\u001b[0m         )\n\u001b[0;32m    882\u001b[0m     \u001b[38;5;66;03m# tol\u001b[39;00m\n\u001b[0;32m    883\u001b[0m     \u001b[38;5;28mself\u001b[39m\u001b[38;5;241m.\u001b[39m_tol \u001b[38;5;241m=\u001b[39m _tolerance(X, \u001b[38;5;28mself\u001b[39m\u001b[38;5;241m.\u001b[39mtol)\n",
      "\u001b[1;31mValueError\u001b[0m: n_samples=1 should be >= n_clusters=3."
     ]
    }
   ],
   "source": [
    "kmeans = KMeans(n_clusters=3, init='k-means++').fit(normalized_metrics)"
   ]
  },
  {
   "cell_type": "code",
   "execution_count": 39,
   "id": "1c834209",
   "metadata": {},
   "outputs": [
    {
     "ename": "ValueError",
     "evalue": "n_samples=1 should be >= n_clusters=3.",
     "output_type": "error",
     "traceback": [
      "\u001b[1;31m---------------------------------------------------------------------------\u001b[0m",
      "\u001b[1;31mValueError\u001b[0m                                Traceback (most recent call last)",
      "Cell \u001b[1;32mIn[39], line 1\u001b[0m\n\u001b[1;32m----> 1\u001b[0m kmeans \u001b[38;5;241m=\u001b[39m \u001b[43mKMeans\u001b[49m\u001b[43m(\u001b[49m\u001b[43mn_clusters\u001b[49m\u001b[38;5;241;43m=\u001b[39;49m\u001b[38;5;241;43m3\u001b[39;49m\u001b[43m,\u001b[49m\u001b[43m \u001b[49m\u001b[43minit\u001b[49m\u001b[38;5;241;43m=\u001b[39;49m\u001b[38;5;124;43m'\u001b[39;49m\u001b[38;5;124;43mk-means++\u001b[39;49m\u001b[38;5;124;43m'\u001b[39;49m\u001b[43m)\u001b[49m\u001b[38;5;241;43m.\u001b[39;49m\u001b[43mfit\u001b[49m\u001b[43m(\u001b[49m\u001b[43mnormalized_metrics\u001b[49m\u001b[43m)\u001b[49m\n\u001b[0;32m      2\u001b[0m pred \u001b[38;5;241m=\u001b[39m kmeans\u001b[38;5;241m.\u001b[39mpredict(normalized_metrics)\n\u001b[0;32m      4\u001b[0m experience_metrics_with_cluster \u001b[38;5;241m=\u001b[39m experience_agg_by_customer\u001b[38;5;241m.\u001b[39mcopy()\n",
      "File \u001b[1;32mc:\\ProgramData\\anaconda3\\Lib\\site-packages\\sklearn\\base.py:1473\u001b[0m, in \u001b[0;36m_fit_context.<locals>.decorator.<locals>.wrapper\u001b[1;34m(estimator, *args, **kwargs)\u001b[0m\n\u001b[0;32m   1466\u001b[0m     estimator\u001b[38;5;241m.\u001b[39m_validate_params()\n\u001b[0;32m   1468\u001b[0m \u001b[38;5;28;01mwith\u001b[39;00m config_context(\n\u001b[0;32m   1469\u001b[0m     skip_parameter_validation\u001b[38;5;241m=\u001b[39m(\n\u001b[0;32m   1470\u001b[0m         prefer_skip_nested_validation \u001b[38;5;129;01mor\u001b[39;00m global_skip_validation\n\u001b[0;32m   1471\u001b[0m     )\n\u001b[0;32m   1472\u001b[0m ):\n\u001b[1;32m-> 1473\u001b[0m     \u001b[38;5;28;01mreturn\u001b[39;00m \u001b[43mfit_method\u001b[49m\u001b[43m(\u001b[49m\u001b[43mestimator\u001b[49m\u001b[43m,\u001b[49m\u001b[43m \u001b[49m\u001b[38;5;241;43m*\u001b[39;49m\u001b[43margs\u001b[49m\u001b[43m,\u001b[49m\u001b[43m \u001b[49m\u001b[38;5;241;43m*\u001b[39;49m\u001b[38;5;241;43m*\u001b[39;49m\u001b[43mkwargs\u001b[49m\u001b[43m)\u001b[49m\n",
      "File \u001b[1;32mc:\\ProgramData\\anaconda3\\Lib\\site-packages\\sklearn\\cluster\\_kmeans.py:1473\u001b[0m, in \u001b[0;36mKMeans.fit\u001b[1;34m(self, X, y, sample_weight)\u001b[0m\n\u001b[0;32m   1438\u001b[0m \u001b[38;5;250m\u001b[39m\u001b[38;5;124;03m\"\"\"Compute k-means clustering.\u001b[39;00m\n\u001b[0;32m   1439\u001b[0m \n\u001b[0;32m   1440\u001b[0m \u001b[38;5;124;03mParameters\u001b[39;00m\n\u001b[1;32m   (...)\u001b[0m\n\u001b[0;32m   1462\u001b[0m \u001b[38;5;124;03m    Fitted estimator.\u001b[39;00m\n\u001b[0;32m   1463\u001b[0m \u001b[38;5;124;03m\"\"\"\u001b[39;00m\n\u001b[0;32m   1464\u001b[0m X \u001b[38;5;241m=\u001b[39m \u001b[38;5;28mself\u001b[39m\u001b[38;5;241m.\u001b[39m_validate_data(\n\u001b[0;32m   1465\u001b[0m     X,\n\u001b[0;32m   1466\u001b[0m     accept_sparse\u001b[38;5;241m=\u001b[39m\u001b[38;5;124m\"\u001b[39m\u001b[38;5;124mcsr\u001b[39m\u001b[38;5;124m\"\u001b[39m,\n\u001b[1;32m   (...)\u001b[0m\n\u001b[0;32m   1470\u001b[0m     accept_large_sparse\u001b[38;5;241m=\u001b[39m\u001b[38;5;28;01mFalse\u001b[39;00m,\n\u001b[0;32m   1471\u001b[0m )\n\u001b[1;32m-> 1473\u001b[0m \u001b[38;5;28;43mself\u001b[39;49m\u001b[38;5;241;43m.\u001b[39;49m\u001b[43m_check_params_vs_input\u001b[49m\u001b[43m(\u001b[49m\u001b[43mX\u001b[49m\u001b[43m)\u001b[49m\n\u001b[0;32m   1475\u001b[0m random_state \u001b[38;5;241m=\u001b[39m check_random_state(\u001b[38;5;28mself\u001b[39m\u001b[38;5;241m.\u001b[39mrandom_state)\n\u001b[0;32m   1476\u001b[0m sample_weight \u001b[38;5;241m=\u001b[39m _check_sample_weight(sample_weight, X, dtype\u001b[38;5;241m=\u001b[39mX\u001b[38;5;241m.\u001b[39mdtype)\n",
      "File \u001b[1;32mc:\\ProgramData\\anaconda3\\Lib\\site-packages\\sklearn\\cluster\\_kmeans.py:1414\u001b[0m, in \u001b[0;36mKMeans._check_params_vs_input\u001b[1;34m(self, X)\u001b[0m\n\u001b[0;32m   1413\u001b[0m \u001b[38;5;28;01mdef\u001b[39;00m \u001b[38;5;21m_check_params_vs_input\u001b[39m(\u001b[38;5;28mself\u001b[39m, X):\n\u001b[1;32m-> 1414\u001b[0m     \u001b[38;5;28;43msuper\u001b[39;49m\u001b[43m(\u001b[49m\u001b[43m)\u001b[49m\u001b[38;5;241;43m.\u001b[39;49m\u001b[43m_check_params_vs_input\u001b[49m\u001b[43m(\u001b[49m\u001b[43mX\u001b[49m\u001b[43m,\u001b[49m\u001b[43m \u001b[49m\u001b[43mdefault_n_init\u001b[49m\u001b[38;5;241;43m=\u001b[39;49m\u001b[38;5;241;43m10\u001b[39;49m\u001b[43m)\u001b[49m\n\u001b[0;32m   1416\u001b[0m     \u001b[38;5;28mself\u001b[39m\u001b[38;5;241m.\u001b[39m_algorithm \u001b[38;5;241m=\u001b[39m \u001b[38;5;28mself\u001b[39m\u001b[38;5;241m.\u001b[39malgorithm\n\u001b[0;32m   1417\u001b[0m     \u001b[38;5;28;01mif\u001b[39;00m \u001b[38;5;28mself\u001b[39m\u001b[38;5;241m.\u001b[39m_algorithm \u001b[38;5;241m==\u001b[39m \u001b[38;5;124m\"\u001b[39m\u001b[38;5;124melkan\u001b[39m\u001b[38;5;124m\"\u001b[39m \u001b[38;5;129;01mand\u001b[39;00m \u001b[38;5;28mself\u001b[39m\u001b[38;5;241m.\u001b[39mn_clusters \u001b[38;5;241m==\u001b[39m \u001b[38;5;241m1\u001b[39m:\n",
      "File \u001b[1;32mc:\\ProgramData\\anaconda3\\Lib\\site-packages\\sklearn\\cluster\\_kmeans.py:878\u001b[0m, in \u001b[0;36m_BaseKMeans._check_params_vs_input\u001b[1;34m(self, X, default_n_init)\u001b[0m\n\u001b[0;32m    875\u001b[0m \u001b[38;5;28;01mdef\u001b[39;00m \u001b[38;5;21m_check_params_vs_input\u001b[39m(\u001b[38;5;28mself\u001b[39m, X, default_n_init\u001b[38;5;241m=\u001b[39m\u001b[38;5;28;01mNone\u001b[39;00m):\n\u001b[0;32m    876\u001b[0m     \u001b[38;5;66;03m# n_clusters\u001b[39;00m\n\u001b[0;32m    877\u001b[0m     \u001b[38;5;28;01mif\u001b[39;00m X\u001b[38;5;241m.\u001b[39mshape[\u001b[38;5;241m0\u001b[39m] \u001b[38;5;241m<\u001b[39m \u001b[38;5;28mself\u001b[39m\u001b[38;5;241m.\u001b[39mn_clusters:\n\u001b[1;32m--> 878\u001b[0m         \u001b[38;5;28;01mraise\u001b[39;00m \u001b[38;5;167;01mValueError\u001b[39;00m(\n\u001b[0;32m    879\u001b[0m             \u001b[38;5;124mf\u001b[39m\u001b[38;5;124m\"\u001b[39m\u001b[38;5;124mn_samples=\u001b[39m\u001b[38;5;132;01m{\u001b[39;00mX\u001b[38;5;241m.\u001b[39mshape[\u001b[38;5;241m0\u001b[39m]\u001b[38;5;132;01m}\u001b[39;00m\u001b[38;5;124m should be >= n_clusters=\u001b[39m\u001b[38;5;132;01m{\u001b[39;00m\u001b[38;5;28mself\u001b[39m\u001b[38;5;241m.\u001b[39mn_clusters\u001b[38;5;132;01m}\u001b[39;00m\u001b[38;5;124m.\u001b[39m\u001b[38;5;124m\"\u001b[39m\n\u001b[0;32m    880\u001b[0m         )\n\u001b[0;32m    882\u001b[0m     \u001b[38;5;66;03m# tol\u001b[39;00m\n\u001b[0;32m    883\u001b[0m     \u001b[38;5;28mself\u001b[39m\u001b[38;5;241m.\u001b[39m_tol \u001b[38;5;241m=\u001b[39m _tolerance(X, \u001b[38;5;28mself\u001b[39m\u001b[38;5;241m.\u001b[39mtol)\n",
      "\u001b[1;31mValueError\u001b[0m: n_samples=1 should be >= n_clusters=3."
     ]
    }
   ],
   "source": [
    "kmeans = KMeans(n_clusters=3, init='k-means++').fit(normalized_metrics)\n",
    "pred = kmeans.predict(normalized_metrics)\n",
    "\n",
    "experience_metrics_with_cluster = experience_agg_by_customer.copy()\n",
    "experience_metrics_with_cluster['clusters'] = pred\n",
    "experience_metrics_with_cluster['clusters'].value_counts()"
   ]
  },
  {
   "cell_type": "code",
   "execution_count": 106,
   "id": "aae4bd77",
   "metadata": {},
   "outputs": [
    {
     "data": {
      "image/png": "[encoded data removed]",
      "text/plain": [
       "<Figure size 1000x700 with 1 Axes>"
      ]
     },
     "metadata": {},
     "output_type": "display_data"
    }
   ],
   "source": [
    "\n",
    "normalized_metrics['clusters'] = pred\n",
    "plt.figure(figsize=(10,7))\n",
    "\n",
    "sns.scatterplot(x = 'avg_throughput_kbps', y='avg_rtt_ms',\n",
    "                hue='clusters', data=normalized_metrics).set_title('Clusters of user engagement metric')\n",
    "\n",
    "plt.show()"
   ]
  },
  {
   "cell_type": "code",
   "execution_count": 107,
   "id": "94edee0a",
   "metadata": {},
   "outputs": [
    {
     "name": "stdout",
     "output_type": "stream",
     "text": [
      "File Successfully Saved.!!!\n"
     ]
    },
    {
     "data": {
      "text/html": [
       "<div>\n",
       "<style scoped>\n",
       "    .dataframe tbody tr th:only-of-type {\n",
       "        vertical-align: middle;\n",
       "    }\n",
       "\n",
       "    .dataframe tbody tr th {\n",
       "        vertical-align: top;\n",
       "    }\n",
       "\n",
       "    .dataframe thead th {\n",
       "        text-align: right;\n",
       "    }\n",
       "</style>\n",
       "<table border=\"1\" class=\"dataframe\">\n",
       "  <thead>\n",
       "    <tr style=\"text-align: right;\">\n",
       "      <th></th>\n",
       "      <th>avg_rtt_ms</th>\n",
       "      <th>avg_throughput_kbps</th>\n",
       "      <th>tcp_retrans_bytes</th>\n",
       "      <th>handset_type</th>\n",
       "      <th>clusters</th>\n",
       "    </tr>\n",
       "    <tr>\n",
       "      <th>msisdn</th>\n",
       "      <th></th>\n",
       "      <th></th>\n",
       "      <th></th>\n",
       "      <th></th>\n",
       "      <th></th>\n",
       "    </tr>\n",
       "  </thead>\n",
       "  <tbody>\n",
       "    <tr>\n",
       "      <th>-2147483648</th>\n",
       "      <td>1.815476e+07</td>\n",
       "      <td>2.233866e+09</td>\n",
       "      <td>2.185963e+12</td>\n",
       "      <td>Huawei B528S-23A</td>\n",
       "      <td>0</td>\n",
       "    </tr>\n",
       "  </tbody>\n",
       "</table>\n",
       "</div>"
      ],
      "text/plain": [
       "               avg_rtt_ms  avg_throughput_kbps  tcp_retrans_bytes  \\\n",
       "msisdn                                                              \n",
       "-2147483648  1.815476e+07         2.233866e+09       2.185963e+12   \n",
       "\n",
       "                 handset_type  clusters  \n",
       "msisdn                                   \n",
       "-2147483648  Huawei B528S-23A         0  "
      ]
     },
     "execution_count": 107,
     "metadata": {},
     "output_type": "execute_result"
    }
   ],
   "source": [
    "TelecomHelper.save_csv(experience_metrics_with_cluster, '../data/user_experience_metrics.csv')"
   ]
  },
  {
   "cell_type": "code",
   "execution_count": 108,
   "id": "a229d966",
   "metadata": {},
   "outputs": [
    {
     "data": {
      "text/html": [
       "<style>#sk-container-id-1 {color: black;}#sk-container-id-1 pre{padding: 0;}#sk-container-id-1 div.sk-toggleable {background-color: white;}#sk-container-id-1 label.sk-toggleable__label {cursor: pointer;display: block;width: 100%;margin-bottom: 0;padding: 0.3em;box-sizing: border-box;text-align: center;}#sk-container-id-1 label.sk-toggleable__label-arrow:before {content: \"▸\";float: left;margin-right: 0.25em;color: #696969;}#sk-container-id-1 label.sk-toggleable__label-arrow:hover:before {color: black;}#sk-container-id-1 div.sk-estimator:hover label.sk-toggleable__label-arrow:before {color: black;}#sk-container-id-1 div.sk-toggleable__content {max-height: 0;max-width: 0;overflow: hidden;text-align: left;background-color: #f0f8ff;}#sk-container-id-1 div.sk-toggleable__content pre {margin: 0.2em;color: black;border-radius: 0.25em;background-color: #f0f8ff;}#sk-container-id-1 input.sk-toggleable__control:checked~div.sk-toggleable__content {max-height: 200px;max-width: 100%;overflow: auto;}#sk-container-id-1 input.sk-toggleable__control:checked~label.sk-toggleable__label-arrow:before {content: \"▾\";}#sk-container-id-1 div.sk-estimator input.sk-toggleable__control:checked~label.sk-toggleable__label {background-color: #d4ebff;}#sk-container-id-1 div.sk-label input.sk-toggleable__control:checked~label.sk-toggleable__label {background-color: #d4ebff;}#sk-container-id-1 input.sk-hidden--visually {border: 0;clip: rect(1px 1px 1px 1px);clip: rect(1px, 1px, 1px, 1px);height: 1px;margin: -1px;overflow: hidden;padding: 0;position: absolute;width: 1px;}#sk-container-id-1 div.sk-estimator {font-family: monospace;background-color: #f0f8ff;border: 1px dotted black;border-radius: 0.25em;box-sizing: border-box;margin-bottom: 0.5em;}#sk-container-id-1 div.sk-estimator:hover {background-color: #d4ebff;}#sk-container-id-1 div.sk-parallel-item::after {content: \"\";width: 100%;border-bottom: 1px solid gray;flex-grow: 1;}#sk-container-id-1 div.sk-label:hover label.sk-toggleable__label {background-color: #d4ebff;}#sk-container-id-1 div.sk-serial::before {content: \"\";position: absolute;border-left: 1px solid gray;box-sizing: border-box;top: 0;bottom: 0;left: 50%;z-index: 0;}#sk-container-id-1 div.sk-serial {display: flex;flex-direction: column;align-items: center;background-color: white;padding-right: 0.2em;padding-left: 0.2em;position: relative;}#sk-container-id-1 div.sk-item {position: relative;z-index: 1;}#sk-container-id-1 div.sk-parallel {display: flex;align-items: stretch;justify-content: center;background-color: white;position: relative;}#sk-container-id-1 div.sk-item::before, #sk-container-id-1 div.sk-parallel-item::before {content: \"\";position: absolute;border-left: 1px solid gray;box-sizing: border-box;top: 0;bottom: 0;left: 50%;z-index: -1;}#sk-container-id-1 div.sk-parallel-item {display: flex;flex-direction: column;z-index: 1;position: relative;background-color: white;}#sk-container-id-1 div.sk-parallel-item:first-child::after {align-self: flex-end;width: 50%;}#sk-container-id-1 div.sk-parallel-item:last-child::after {align-self: flex-start;width: 50%;}#sk-container-id-1 div.sk-parallel-item:only-child::after {width: 0;}#sk-container-id-1 div.sk-dashed-wrapped {border: 1px dashed gray;margin: 0 0.4em 0.5em 0.4em;box-sizing: border-box;padding-bottom: 0.4em;background-color: white;}#sk-container-id-1 div.sk-label label {font-family: monospace;font-weight: bold;display: inline-block;line-height: 1.2em;}#sk-container-id-1 div.sk-label-container {text-align: center;}#sk-container-id-1 div.sk-container {/* jupyter's `normalize.less` sets `[hidden] { display: none; }` but bootstrap.min.css set `[hidden] { display: none !important; }` so we also need the `!important` here to be able to override the default hidden behavior on the sphinx rendered scikit-learn.org. See: https://github.com/scikit-learn/scikit-learn/issues/21755 */display: inline-block !important;position: relative;}#sk-container-id-1 div.sk-text-repr-fallback {display: none;}</style><div id=\"sk-container-id-1\" class=\"sk-top-container\"><div class=\"sk-text-repr-fallback\"><pre>KMeans(n_clusters=1)</pre><b>In a Jupyter environment, please rerun this cell to show the HTML representation or trust the notebook. <br />On GitHub, the HTML representation is unable to render, please try loading this page with nbviewer.org.</b></div><div class=\"sk-container\" hidden><div class=\"sk-item\"><div class=\"sk-estimator sk-toggleable\"><input class=\"sk-toggleable__control sk-hidden--visually\" id=\"sk-estimator-id-1\" type=\"checkbox\" checked><label for=\"sk-estimator-id-1\" class=\"sk-toggleable__label sk-toggleable__label-arrow\">KMeans</label><div class=\"sk-toggleable__content\"><pre>KMeans(n_clusters=1)</pre></div></div></div></div></div>"
      ],
      "text/plain": [
       "KMeans(n_clusters=1)"
      ]
     },
     "execution_count": 108,
     "metadata": {},
     "output_type": "execute_result"
    }
   ],
   "source": [
    "normal_metrics_with_cluster_2 = normalized_metrics.copy()\n",
    "kmeans"
   ]
  },
  {
   "cell_type": "code",
   "execution_count": 109,
   "id": "acc8bec7",
   "metadata": {},
   "outputs": [],
   "source": [
    "distance = kmeans.fit_transform(normal_metrics_with_cluster_2)\n",
    "\n",
    "distance_from_less_exp = list(map(lambda x : x[0], distance))\n",
    "\n",
    "experience_metrics_with_cluster_2 = experience_metrics_with_cluster.copy()\n",
    "experience_metrics_with_cluster_2['score'] = distance_from_less_exp"
   ]
  },
  {
   "cell_type": "code",
   "execution_count": 110,
   "id": "7eec8f73",
   "metadata": {},
   "outputs": [],
   "source": [
    "experience_metrics_with_cluster_2['msisdn'] = experience_metrics_with_cluster_2.index"
   ]
  }
 ],
 "metadata": {
  "kernelspec": {
   "display_name": "Python 3",
   "language": "python",
   "name": "python3"
  },
  "language_info": {
   "codemirror_mode": {
    "name": "ipython",
    "version": 3
   },
   "file_extension": ".py",
   "mimetype": "text/x-python",
   "name": "python",
   "nbconvert_exporter": "python",
   "pygments_lexer": "ipython3",
   "version": "3.12.7"
  }
 },
 "nbformat": 4,
 "nbformat_minor": 5
}
